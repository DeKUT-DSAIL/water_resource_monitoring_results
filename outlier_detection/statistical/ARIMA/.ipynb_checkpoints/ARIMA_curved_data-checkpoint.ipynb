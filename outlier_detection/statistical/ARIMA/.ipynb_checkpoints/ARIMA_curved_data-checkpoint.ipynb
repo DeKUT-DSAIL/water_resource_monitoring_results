{
 "cells": [
  {
   "cell_type": "markdown",
   "metadata": {},
   "source": [
    "### Import the dataset (from 24th April 2022 to 17 May 2022) "
   ]
  },
  {
   "cell_type": "code",
   "execution_count": null,
   "metadata": {},
   "outputs": [],
   "source": [
    "import matplotlib.pyplot as plt\n",
    "from matplotlib.dates import DateFormatter\n",
    "plt.rcParams['figure.figsize'] = (13, 7)\n",
    "import pandas as pd\n",
    "import numpy as np"
   ]
  },
  {
   "cell_type": "code",
   "execution_count": null,
   "metadata": {},
   "outputs": [],
   "source": [
    "df = pd.read_csv('curved_labelled_data.csv')\n",
    "df[['time']] = df[['time']].apply(pd.to_datetime)\n",
    "df.rename(columns = {'Unnamed: 0':'x_column' }, inplace = True)"
   ]
  },
  {
   "cell_type": "markdown",
   "metadata": {},
   "source": [
    "### Plotting the dataset "
   ]
  },
  {
   "cell_type": "code",
   "execution_count": null,
   "metadata": {},
   "outputs": [],
   "source": [
    "plt.rcParams['figure.figsize'] = (13, 7)\n",
    "fig, ax = plt.subplots(1,1)\n",
    "fig.patch.set_facecolor('white')\n",
    "ax.scatter(df['time'],df['height'], c= df['data_label'], cmap='rainbow')\n",
    "ax.grid(color = 'gray', linestyle = '--', linewidth = 0.8)\n",
    "ax.set_title('Outliers and the main trend from 24th April to 17th May 2022', fontsize=18, weight='bold')\n",
    "ax.set_xlabel('Time', fontsize=18, weight = 'bold')\n",
    "ax.set_ylabel('Water level (m)', fontsize=18, weight = 'bold')\n",
    "ax.set_xlim(['2022-04-24 00:00:00'],['2022-05-17 23:59:59'])\n",
    "ax.set_ylim(0, 1.9)\n",
    "ax.set_xticklabels(df['time'], fontsize=16, weight='bold')\n",
    "ax.tick_params(axis='y', labelsize=16)\n",
    "ax.tick_params(axis='x',which='major', labelsize=16)\n",
    "\n",
    "## Define the date format\n",
    "date_form = DateFormatter(\"%d-%m\")\n",
    "ax.xaxis.set_major_formatter(date_form)\n",
    "ax.set(facecolor = \"white\")\n",
    "\n",
    "plt.savefig('sample_photo_curved.png', dpi=450, orientation='portrait', bbox_inches='tight', facecolor='w',edgecolor='b',)\n",
    "plt.show()"
   ]
  },
  {
   "cell_type": "markdown",
   "metadata": {},
   "source": [
    "### ARIMA\n",
    "- Auto-Regression — Observations are regressed on its own lagged (i.e., prior) values.\n",
    "- Integrated — Data values are replaced by the difference between values.\n",
    "- Moving Average — Regression errors are dependent on lagged observations."
   ]
  },
  {
   "cell_type": "code",
   "execution_count": null,
   "metadata": {},
   "outputs": [],
   "source": [
    "from statsmodels.tsa.arima_model import ARIMA\n",
    "import statsmodels.api as sm\n",
    "from sklearn.metrics import mean_squared_error\n",
    "from sklearn.model_selection import train_test_split\n",
    "import datetime as datetime\n",
    "p = 5  # lag\n",
    "d = 1  # difference order\n",
    "q = 0  # size of moving average window\n",
    "water_level = np.array(df['height']).reshape(-1, 1)\n",
    "target_clusters =np.array(df['data_label']).reshape(-1,1) "
   ]
  },
  {
   "cell_type": "markdown",
   "metadata": {},
   "source": [
    "### Train-test split "
   ]
  },
  {
   "cell_type": "code",
   "execution_count": null,
   "metadata": {},
   "outputs": [],
   "source": [
    "from sklearn.model_selection import train_test_split\n",
    "train, test = train_test_split(water_level, test_size=0.20, shuffle=False)\n",
    "history = train.tolist()\n",
    "predictions = []"
   ]
  },
  {
   "cell_type": "markdown",
   "metadata": {},
   "source": [
    "### water level data fitting "
   ]
  },
  {
   "cell_type": "code",
   "execution_count": null,
   "metadata": {},
   "outputs": [],
   "source": [
    "import warnings\n",
    "warnings.filterwarnings('ignore')\n",
    "for t in range(len(test)):\n",
    "    model = sm.tsa.arima.ARIMA(history, order=(p,d,q))\n",
    "    fit = model.fit()\n",
    "    pred = fit.forecast()[0]\n",
    "  \n",
    "    predictions.append(pred)\n",
    "    history.append(test[t])\n",
    "print('MSE: %.3f' % mean_squared_error(test, predictions))"
   ]
  },
  {
   "cell_type": "code",
   "execution_count": null,
   "metadata": {},
   "outputs": [],
   "source": [
    "plt.plot(test)\n",
    "plt.plot(predictions, color='red')\n",
    "plt.show()"
   ]
  },
  {
   "cell_type": "markdown",
   "metadata": {},
   "source": [
    "### Performance Metrics "
   ]
  },
  {
   "cell_type": "code",
   "execution_count": null,
   "metadata": {},
   "outputs": [],
   "source": [
    "from sklearn.metrics import accuracy_score, f1_score,precision_score, recall_score, confusion_matrix, roc_curve, auc, ConfusionMatrixDisplay\n",
    "c_matrix = confusion_matrix (y_test, y_pred)\n",
    "disp = ConfusionMatrixDisplay(c_matrix )\n",
    "disp.plot(cmap=plt.cm.Blues,values_format='g',)\n",
    "plt.xlabel('Predicted label', weight = 'bold')\n",
    "plt.ylabel('True Label', weight = 'bold')\n",
    "\n",
    "\n",
    "plt.savefig('con1.png', dpi=450, orientation='portrait', bbox_inches='tight', facecolor='w',edgecolor='b',)\n",
    "plt.show()"
   ]
  },
  {
   "cell_type": "code",
   "execution_count": null,
   "metadata": {},
   "outputs": [],
   "source": [
    "data_accuracy = accuracy_score (y_test, y_pred)\n",
    "data_accuracy"
   ]
  },
  {
   "cell_type": "code",
   "execution_count": null,
   "metadata": {},
   "outputs": [],
   "source": [
    "data_precision = precision_score (y_test, y_pred)\n",
    "data_precision"
   ]
  },
  {
   "cell_type": "code",
   "execution_count": null,
   "metadata": {},
   "outputs": [],
   "source": [
    "data_recall_score = recall_score (y_test, y_pred)\n",
    "data_recall_score"
   ]
  },
  {
   "cell_type": "code",
   "execution_count": null,
   "metadata": {},
   "outputs": [],
   "source": [
    "data_f1_score = f1_score (y_test, y_pred)\n",
    "data_f1_score"
   ]
  }
 ],
 "metadata": {
  "kernelspec": {
   "display_name": "Python 3 (ipykernel)",
   "language": "python",
   "name": "python3"
  },
  "language_info": {
   "codemirror_mode": {
    "name": "ipython",
    "version": 3
   },
   "file_extension": ".py",
   "mimetype": "text/x-python",
   "name": "python",
   "nbconvert_exporter": "python",
   "pygments_lexer": "ipython3",
   "version": "3.7.13"
  }
 },
 "nbformat": 4,
 "nbformat_minor": 2
}
