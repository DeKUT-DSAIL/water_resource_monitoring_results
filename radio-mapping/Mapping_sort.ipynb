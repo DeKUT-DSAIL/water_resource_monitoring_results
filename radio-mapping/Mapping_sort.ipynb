{
 "cells": [
  {
   "cell_type": "markdown",
   "metadata": {},
   "source": [
    "### import modules "
   ]
  },
  {
   "cell_type": "code",
   "execution_count": 2,
   "metadata": {},
   "outputs": [
    {
     "data": {
      "text/plain": [
       "<Figure size 6750x4500 with 0 Axes>"
      ]
     },
     "metadata": {},
     "output_type": "display_data"
    }
   ],
   "source": [
    "import pandas as pd\n",
    "from matplotlib import pyplot as plt\n",
    "from pandas import DataFrame, Series\n",
    "from pandas.io.json import json_normalize\n",
    "from influxdb import InfluxDBClient\n",
    "from datetime import datetime, timedelta\n",
    "import numpy as np \n",
    "import statistics\n",
    "import pytz\n",
    "plt.rcParams['figure.figsize'] = (15, 10)\n",
    "plt.figure(dpi=450)\n",
    "plt.style.use('ggplot')"
   ]
  },
  {
   "cell_type": "markdown",
   "metadata": {},
   "source": [
    "### Data import "
   ]
  },
  {
   "cell_type": "code",
   "execution_count": 3,
   "metadata": {},
   "outputs": [
    {
     "name": "stderr",
     "output_type": "stream",
     "text": [
      "C:\\Users\\user\\Anaconda3\\envs\\usual\\lib\\site-packages\\urllib3\\connectionpool.py:1020: InsecureRequestWarning: Unverified HTTPS request is being made to host '34.105.67.126'. Adding certificate verification is strongly advised. See: https://urllib3.readthedocs.io/en/1.26.x/advanced-usage.html#ssl-warnings\n",
      "  InsecureRequestWarning,\n"
     ]
    }
   ],
   "source": [
    "client = InfluxDBClient(host = '34.105.67.126', port = 8086, username = 'admin', password = 'BSSty1KTfj9MSSJy', database = 'muringato-stack',ssl = True)\n",
    "query_str=\"select * from \\\"muringato-stack\\\" where \\\"device_id\\\" = \\'mdot8\\'\"\n",
    "result = client.query(query_str)\n",
    "result_list = list(result.get_points())\n",
    "df = pd.DataFrame(result_list)\n",
    "df[['time']] = df[['time']].apply(pd.to_datetime)\n",
    "#'consumed_airtime', 'channel_rssi', \n",
    "df2 = df.drop(['battery-voltage','height','channel_rssi','dev_eui','dev_addr','sensor','application_ids','uplink_token','frm_payload','frame_counter','received_at','port','ts','spreading_factor', 'coding_rate', 'frequency', 'gweui', 'bandwidth', 'uplink_token'], axis = 1)"
   ]
  },
  {
   "cell_type": "code",
   "execution_count": 4,
   "metadata": {},
   "outputs": [],
   "source": [
    "df5 = df2.set_index('time')\n",
    "df_zone = df5.tz_convert('Africa/Nairobi')"
   ]
  },
  {
   "cell_type": "markdown",
   "metadata": {},
   "source": [
    "### Nyeri Hill 1  (-0.410225, 36.913601) - 1917m "
   ]
  },
  {
   "cell_type": "code",
   "execution_count": 5,
   "metadata": {},
   "outputs": [],
   "source": [
    "df_loc1 = df_zone['2022-05-22 09:30:00' : '2022-05-22 10:02:00']\n",
    "df_tim1 = df_loc1.reset_index()\n",
    "#df_tim.to_csv ('sample_dataset2.csv', header=True,index = False)"
   ]
  },
  {
   "cell_type": "code",
   "execution_count": 6,
   "metadata": {
    "scrolled": true
   },
   "outputs": [
    {
     "data": {
      "text/plain": [
       "-100.3913043478261"
      ]
     },
     "execution_count": 6,
     "metadata": {},
     "output_type": "execute_result"
    }
   ],
   "source": [
    "df_mul1 = df_tim1.loc[df_tim1['gateway_id'] == 'multitech-dsail-tower']\n",
    "df_mul1 = df_mul1.set_index('time')\n",
    "df_mul1= df_mul1.reset_index()\n",
    "statistics.mean(df_mul1['rssi'])"
   ]
  },
  {
   "cell_type": "code",
   "execution_count": 7,
   "metadata": {},
   "outputs": [
    {
     "data": {
      "text/plain": [
       "-111.66666666666667"
      ]
     },
     "execution_count": 7,
     "metadata": {},
     "output_type": "execute_result"
    }
   ],
   "source": [
    "df_ker1 = df_tim1.loc[df_tim1['gateway_id'] == 'kerlink-dsail-tower']\n",
    "df_ker1 = df_ker1.set_index('time')\n",
    "df_ker1 = df_ker1.reset_index()\n",
    "statistics.mean(df_ker1['rssi'])"
   ]
  },
  {
   "cell_type": "markdown",
   "metadata": {},
   "source": [
    "### Nyeri Hill 2  (-0.406542, 36.909702) - 1953m  "
   ]
  },
  {
   "cell_type": "code",
   "execution_count": 8,
   "metadata": {},
   "outputs": [],
   "source": [
    "df_loc2 = df_zone['2022-05-22 10:12:00' : '2022-05-22 10:37:00']\n",
    "df_tim2 = df_loc2.reset_index()"
   ]
  },
  {
   "cell_type": "code",
   "execution_count": 9,
   "metadata": {},
   "outputs": [
    {
     "data": {
      "text/plain": [
       "-111.0"
      ]
     },
     "execution_count": 9,
     "metadata": {},
     "output_type": "execute_result"
    }
   ],
   "source": [
    "df_mul2 = df_tim2.loc[df_tim2['gateway_id'] == 'multitech-dsail-tower']\n",
    "df_mul2 = df_mul2.set_index('time')\n",
    "df_mul2= df_mul2.reset_index()\n",
    "statistics.mean(df_mul2['rssi'])"
   ]
  },
  {
   "cell_type": "code",
   "execution_count": 10,
   "metadata": {
    "scrolled": true
   },
   "outputs": [
    {
     "data": {
      "text/plain": [
       "-121.3125"
      ]
     },
     "execution_count": 10,
     "metadata": {},
     "output_type": "execute_result"
    }
   ],
   "source": [
    "df_ker2 = df_tim2.loc[df_tim2['gateway_id'] == 'kerlink-dsail-tower']\n",
    "df_ker2 = df_ker2.set_index('time')\n",
    "df_ker2 = df_ker2.reset_index()\n",
    "statistics.mean(df_ker2['rssi'])"
   ]
  },
  {
   "cell_type": "markdown",
   "metadata": {},
   "source": [
    "### Nyeri Hill 3  (-0.404288, 36.904404) - 1941m  - mwenji"
   ]
  },
  {
   "cell_type": "code",
   "execution_count": 11,
   "metadata": {},
   "outputs": [],
   "source": [
    "df_loc3 = df_zone['2022-05-22 10:39:00' : '2022-05-22 10:58:00']\n",
    "df_tim3 = df_loc3.reset_index()"
   ]
  },
  {
   "cell_type": "code",
   "execution_count": 12,
   "metadata": {},
   "outputs": [
    {
     "data": {
      "text/plain": [
       "-11.5"
      ]
     },
     "execution_count": 12,
     "metadata": {},
     "output_type": "execute_result"
    }
   ],
   "source": [
    "df_mul3 = df_tim3.loc[df_tim3['gateway_id'] == 'multitech-dsail-tower']\n",
    "df_mul3 = df_mul3.set_index('time')\n",
    "df_mul3 = df_mul3.reset_index()\n",
    "statistics.mean(df_mul3['snr'])"
   ]
  },
  {
   "cell_type": "code",
   "execution_count": 13,
   "metadata": {},
   "outputs": [
    {
     "data": {
      "text/plain": [
       "-122.75"
      ]
     },
     "execution_count": 13,
     "metadata": {},
     "output_type": "execute_result"
    }
   ],
   "source": [
    "df_ker3 = df_tim3.loc[df_tim3['gateway_id'] == 'kerlink-dsail-tower']\n",
    "df_ker3 = df_ker3.set_index('time')\n",
    "df_ker3 = df_ker3.reset_index()\n",
    "statistics.mean(df_ker3['rssi'])"
   ]
  },
  {
   "cell_type": "markdown",
   "metadata": {},
   "source": [
    "### Nyeri Hill 4  (-0.406380, 36.896317) - 1985m   - ihururu"
   ]
  },
  {
   "cell_type": "code",
   "execution_count": 14,
   "metadata": {},
   "outputs": [],
   "source": [
    "df_loc4 = df_zone['2022-05-22 11:08:00' : '2022-05-22 11:35:00']\n",
    "df_tim4 = df_loc4.reset_index()"
   ]
  },
  {
   "cell_type": "code",
   "execution_count": 15,
   "metadata": {},
   "outputs": [
    {
     "data": {
      "text/plain": [
       "-110.9"
      ]
     },
     "execution_count": 15,
     "metadata": {},
     "output_type": "execute_result"
    }
   ],
   "source": [
    "df_mul4 = df_tim4.loc[df_tim4['gateway_id'] == 'multitech-dsail-tower']\n",
    "df_mul4 = df_mul4.set_index('time')\n",
    "df_mul4 = df_mul4.reset_index()\n",
    "statistics.mean(df_mul4['rssi'])"
   ]
  },
  {
   "cell_type": "code",
   "execution_count": 16,
   "metadata": {},
   "outputs": [
    {
     "data": {
      "text/plain": [
       "-122.83333333333333"
      ]
     },
     "execution_count": 16,
     "metadata": {},
     "output_type": "execute_result"
    }
   ],
   "source": [
    "df_ker4 = df_tim4.loc[df_tim4['gateway_id'] == 'kerlink-dsail-tower']\n",
    "df_ker4 = df_ker4.set_index('time')\n",
    "df_ker4 = df_ker4.reset_index()\n",
    "statistics.mean(df_ker4['rssi'])"
   ]
  },
  {
   "cell_type": "markdown",
   "metadata": {},
   "source": [
    "### Nyeri Hill 5 (-0.414681, 36.918831) - 1839m - mathari"
   ]
  },
  {
   "cell_type": "code",
   "execution_count": 17,
   "metadata": {},
   "outputs": [],
   "source": [
    "df_loc5 = df_zone['2022-05-22 11:08:00' : '2022-05-22 11:35:00']\n",
    "df_tim5 = df_loc5.reset_index()"
   ]
  },
  {
   "cell_type": "code",
   "execution_count": 18,
   "metadata": {},
   "outputs": [
    {
     "data": {
      "text/plain": [
       "-110.9"
      ]
     },
     "execution_count": 18,
     "metadata": {},
     "output_type": "execute_result"
    }
   ],
   "source": [
    "df_mul5 = df_tim5.loc[df_tim5['gateway_id'] == 'multitech-dsail-tower']\n",
    "df_mul5 = df_mul5.set_index('time')\n",
    "df_mul5 = df_mul5.reset_index()\n",
    "statistics.mean(df_mul5['rssi'])"
   ]
  },
  {
   "cell_type": "code",
   "execution_count": 19,
   "metadata": {},
   "outputs": [
    {
     "data": {
      "text/plain": [
       "-122.83333333333333"
      ]
     },
     "execution_count": 19,
     "metadata": {},
     "output_type": "execute_result"
    }
   ],
   "source": [
    "df_ker5 = df_tim5.loc[df_tim5['gateway_id'] == 'kerlink-dsail-tower']\n",
    "df_ker5 = df_ker5.set_index('time')\n",
    "df_ker5 = df_ker5.reset_index()\n",
    "statistics.mean(df_ker5['rssi'])"
   ]
  },
  {
   "cell_type": "markdown",
   "metadata": {},
   "source": [
    "### Kiganjo Police (-0.390500, 37.002533) - 1737m  "
   ]
  },
  {
   "cell_type": "code",
   "execution_count": 20,
   "metadata": {},
   "outputs": [],
   "source": [
    "df_loc6 = df_zone['2022-05-22 14:03:00' : '2022-05-22 14:38:00']\n",
    "df_tim6 = df_loc6.reset_index()"
   ]
  },
  {
   "cell_type": "code",
   "execution_count": 21,
   "metadata": {},
   "outputs": [
    {
     "data": {
      "text/plain": [
       "-107.94285714285714"
      ]
     },
     "execution_count": 21,
     "metadata": {},
     "output_type": "execute_result"
    }
   ],
   "source": [
    "df_mul6 = df_tim6.loc[df_tim6['gateway_id'] == 'multitech-dsail-tower']\n",
    "df_mul6 = df_mul6.set_index('time')\n",
    "df_mul6 = df_mul6.reset_index()\n",
    "statistics.mean(df_mul6['rssi'])"
   ]
  },
  {
   "cell_type": "code",
   "execution_count": 22,
   "metadata": {},
   "outputs": [
    {
     "data": {
      "text/plain": [
       "-111.89473684210526"
      ]
     },
     "execution_count": 22,
     "metadata": {},
     "output_type": "execute_result"
    }
   ],
   "source": [
    "df_ker6 = df_tim6.loc[df_tim6['gateway_id'] == 'kerlink-dsail-tower']\n",
    "df_ker6 = df_ker6.set_index('time')\n",
    "df_ker6 = df_ker6.reset_index()\n",
    "statistics.mean(df_ker6['rssi'])"
   ]
  },
  {
   "cell_type": "markdown",
   "metadata": {},
   "source": [
    "### Chaka - Nyaribo Junction (-0.350040, 37.000561) - 1758m  "
   ]
  },
  {
   "cell_type": "code",
   "execution_count": 23,
   "metadata": {},
   "outputs": [],
   "source": [
    "df_loc7 = df_zone['2022-05-22 15:08:00' : '2022-05-22 15:42:00']\n",
    "df_tim7 = df_loc7.reset_index()"
   ]
  },
  {
   "cell_type": "code",
   "execution_count": 24,
   "metadata": {
    "scrolled": true
   },
   "outputs": [
    {
     "data": {
      "text/plain": [
       "-110.25714285714285"
      ]
     },
     "execution_count": 24,
     "metadata": {},
     "output_type": "execute_result"
    }
   ],
   "source": [
    "df_mul7 = df_tim7.loc[df_tim7['gateway_id'] == 'multitech-dsail-tower']\n",
    "df_mul7 = df_mul7.set_index('time')\n",
    "df_mul7 = df_mul7.reset_index()\n",
    "statistics.mean(df_mul7['rssi'])"
   ]
  },
  {
   "cell_type": "code",
   "execution_count": 25,
   "metadata": {},
   "outputs": [
    {
     "data": {
      "text/plain": [
       "-121.21428571428571"
      ]
     },
     "execution_count": 25,
     "metadata": {},
     "output_type": "execute_result"
    }
   ],
   "source": [
    "df_ker7 = df_tim7.loc[df_tim7['gateway_id'] == 'kerlink-dsail-tower']\n",
    "df_ker7 = df_ker7.set_index('time')\n",
    "df_ker7 = df_ker7.reset_index()\n",
    "statistics.mean(df_ker7['rssi'])"
   ]
  },
  {
   "cell_type": "markdown",
   "metadata": {},
   "source": [
    "### Nyaribo Shopping centre (-0.376903, 36.983826) - 1761m   "
   ]
  },
  {
   "cell_type": "code",
   "execution_count": 26,
   "metadata": {},
   "outputs": [],
   "source": [
    "df_loc8 = df_zone['2022-05-22 15:48:00' : '2022-05-22 16:23:00']\n",
    "df_tim8 = df_loc8.reset_index()"
   ]
  },
  {
   "cell_type": "code",
   "execution_count": 27,
   "metadata": {},
   "outputs": [
    {
     "data": {
      "text/plain": [
       "-109.38461538461539"
      ]
     },
     "execution_count": 27,
     "metadata": {},
     "output_type": "execute_result"
    }
   ],
   "source": [
    "df_mul8 = df_tim8.loc[df_tim8['gateway_id'] == 'multitech-dsail-tower']\n",
    "df_mul8 = df_mul8.set_index('time')\n",
    "df_mul8 = df_mul8.reset_index()\n",
    "statistics.mean(df_mul8['rssi'])"
   ]
  },
  {
   "cell_type": "code",
   "execution_count": 28,
   "metadata": {},
   "outputs": [
    {
     "data": {
      "text/plain": [
       "-116.26666666666667"
      ]
     },
     "execution_count": 28,
     "metadata": {},
     "output_type": "execute_result"
    }
   ],
   "source": [
    "df_ker8 = df_tim8.loc[df_tim8['gateway_id'] == 'kerlink-dsail-tower']\n",
    "df_ker8 = df_ker8.set_index('time')\n",
    "df_ker8 = df_ker8.reset_index()\n",
    "statistics.mean(df_ker8['rssi'])"
   ]
  },
  {
   "cell_type": "markdown",
   "metadata": {},
   "source": [
    "### King'ong'o - Almasi bottlers (-0.414613, 36.957924) - 1788m "
   ]
  },
  {
   "cell_type": "code",
   "execution_count": 29,
   "metadata": {},
   "outputs": [],
   "source": [
    "df_loc9 = df_zone['2022-05-22 17:28:00' : '2022-05-22 18:05:00']\n",
    "df_tim9 = df_loc9.reset_index()"
   ]
  },
  {
   "cell_type": "code",
   "execution_count": 30,
   "metadata": {},
   "outputs": [
    {
     "data": {
      "text/plain": [
       "-108.18181818181819"
      ]
     },
     "execution_count": 30,
     "metadata": {},
     "output_type": "execute_result"
    }
   ],
   "source": [
    "df_mul9 = df_tim9.loc[df_tim9['gateway_id'] == 'multitech-dsail-tower']\n",
    "df_mul9 = df_mul9.set_index('time')\n",
    "df_mul9 = df_mul9.reset_index()\n",
    "statistics.mean(df_mul9['rssi'])"
   ]
  },
  {
   "cell_type": "code",
   "execution_count": 31,
   "metadata": {},
   "outputs": [
    {
     "data": {
      "text/plain": [
       "-120.56"
      ]
     },
     "execution_count": 31,
     "metadata": {},
     "output_type": "execute_result"
    }
   ],
   "source": [
    "df_ker9 = df_tim9.loc[df_tim9['gateway_id'] == 'kerlink-dsail-tower']\n",
    "df_ker9 = df_ker9.set_index('time')\n",
    "df_ker9 = df_ker9.reset_index()\n",
    "statistics.mean(df_ker9['rssi'])"
   ]
  },
  {
   "cell_type": "markdown",
   "metadata": {},
   "source": [
    "### Muringato-1k  (-0.406104, 36.948135) - 1734m  "
   ]
  },
  {
   "cell_type": "code",
   "execution_count": 32,
   "metadata": {},
   "outputs": [],
   "source": [
    "df_loc10 = df_zone['2022-05-22 22:40:00' : '2022-05-22 23:12:00']\n",
    "df_tim10 = df_loc10.reset_index()"
   ]
  },
  {
   "cell_type": "code",
   "execution_count": 33,
   "metadata": {
    "scrolled": true
   },
   "outputs": [
    {
     "data": {
      "text/plain": [
       "-104.47457627118644"
      ]
     },
     "execution_count": 33,
     "metadata": {},
     "output_type": "execute_result"
    }
   ],
   "source": [
    "df_mul10 = df_tim10.loc[df_tim10['gateway_id'] == 'multitech-dsail-tower']\n",
    "df_mul10 = df_mul10.set_index('time')\n",
    "df_mul10 = df_mul10.reset_index()\n",
    "statistics.mean(df_mul10['rssi'])"
   ]
  },
  {
   "cell_type": "code",
   "execution_count": 34,
   "metadata": {},
   "outputs": [
    {
     "data": {
      "text/plain": [
       "-120.56666666666666"
      ]
     },
     "execution_count": 34,
     "metadata": {},
     "output_type": "execute_result"
    }
   ],
   "source": [
    "df_ker10 = df_tim10.loc[df_tim10['gateway_id'] == 'kerlink-dsail-tower']\n",
    "df_ker10 = df_ker10.set_index('time')\n",
    "df_ker10 = df_ker10.reset_index()\n",
    "statistics.mean(df_ker10['rssi'])"
   ]
  },
  {
   "cell_type": "markdown",
   "metadata": {},
   "source": [
    "### Conservancy Junction  (-0.389861, 36.956863) - 1768m   "
   ]
  },
  {
   "cell_type": "code",
   "execution_count": 35,
   "metadata": {},
   "outputs": [],
   "source": [
    "df_loc11 = df_zone['2022-05-29 08:30:00' : '2022-05-29 09:02:00']\n",
    "df_tim11 = df_loc11.reset_index()"
   ]
  },
  {
   "cell_type": "code",
   "execution_count": 36,
   "metadata": {},
   "outputs": [
    {
     "data": {
      "text/plain": [
       "-95.625"
      ]
     },
     "execution_count": 36,
     "metadata": {},
     "output_type": "execute_result"
    }
   ],
   "source": [
    "df_mul11 = df_tim11.loc[df_tim11['gateway_id'] == 'multitech-dsail-tower']\n",
    "df_mul11 = df_mul11.set_index('time')\n",
    "df_mul11 = df_mul11.reset_index()\n",
    "statistics.mean(df_mul11['rssi'])"
   ]
  },
  {
   "cell_type": "code",
   "execution_count": 37,
   "metadata": {},
   "outputs": [
    {
     "data": {
      "text/plain": [
       "-114.42553191489361"
      ]
     },
     "execution_count": 37,
     "metadata": {},
     "output_type": "execute_result"
    }
   ],
   "source": [
    "df_ker11 = df_tim11.loc[df_tim11['gateway_id'] == 'kerlink-dsail-tower']\n",
    "df_ker11 = df_ker11.set_index('time')\n",
    "df_ker11 = df_ker11.reset_index()\n",
    "statistics.mean(df_ker11['rssi'])"
   ]
  },
  {
   "cell_type": "markdown",
   "metadata": {},
   "source": [
    "### Embassy-Golden gates   (-0.371265, 36.930866) - 1856m    "
   ]
  },
  {
   "cell_type": "code",
   "execution_count": 38,
   "metadata": {},
   "outputs": [],
   "source": [
    "df_loc12 = df_zone['2022-05-29 09:30:00' : '2022-05-29 10:05:00']\n",
    "df_tim12 = df_loc12.reset_index()"
   ]
  },
  {
   "cell_type": "code",
   "execution_count": 39,
   "metadata": {},
   "outputs": [
    {
     "data": {
      "text/plain": [
       "-110.07407407407408"
      ]
     },
     "execution_count": 39,
     "metadata": {},
     "output_type": "execute_result"
    }
   ],
   "source": [
    "df_mul12 = df_tim12.loc[df_tim12['gateway_id'] == 'multitech-dsail-tower']\n",
    "df_mul12 = df_mul12.set_index('time')\n",
    "df_mul12 = df_mul12.reset_index()\n",
    "statistics.mean(df_mul12['rssi'])"
   ]
  },
  {
   "cell_type": "code",
   "execution_count": 40,
   "metadata": {},
   "outputs": [
    {
     "data": {
      "text/plain": [
       "-121.95"
      ]
     },
     "execution_count": 40,
     "metadata": {},
     "output_type": "execute_result"
    }
   ],
   "source": [
    "df_ker12 = df_tim12.loc[df_tim12['gateway_id'] == 'kerlink-dsail-tower']\n",
    "df_ker12 = df_ker12.set_index('time')\n",
    "df_ker12 = df_ker12.reset_index()\n",
    "statistics.mean(df_ker12['rssi'])"
   ]
  },
  {
   "cell_type": "markdown",
   "metadata": {},
   "source": [
    "### Muringato-Bridge-Main Road  (-0.402339, 36.945244) - 1729m"
   ]
  },
  {
   "cell_type": "code",
   "execution_count": 41,
   "metadata": {},
   "outputs": [],
   "source": [
    "df_loc13 = df_zone['2022-05-29 10:45:00' : '2022-05-29 11:15:00']\n",
    "df_tim13 = df_loc13.reset_index()"
   ]
  },
  {
   "cell_type": "code",
   "execution_count": 42,
   "metadata": {},
   "outputs": [
    {
     "data": {
      "text/plain": [
       "-104.72527472527473"
      ]
     },
     "execution_count": 42,
     "metadata": {},
     "output_type": "execute_result"
    }
   ],
   "source": [
    "df_mul13 = df_tim13.loc[df_tim13['gateway_id'] == 'multitech-dsail-tower']\n",
    "df_mul13 = df_mul13.set_index('time')\n",
    "df_mul13 = df_mul13.reset_index()\n",
    "statistics.mean(df_mul13['rssi'])"
   ]
  },
  {
   "cell_type": "code",
   "execution_count": 43,
   "metadata": {},
   "outputs": [
    {
     "data": {
      "text/plain": [
       "-122.77777777777777"
      ]
     },
     "execution_count": 43,
     "metadata": {},
     "output_type": "execute_result"
    }
   ],
   "source": [
    "df_ker13 = df_tim13.loc[df_tim13['gateway_id'] == 'kerlink-dsail-tower']\n",
    "df_ker13 = df_ker13.set_index('time')\n",
    "df_ker13 = df_ker13.reset_index()\n",
    "statistics.mean(df_ker13['rssi'])"
   ]
  },
  {
   "cell_type": "markdown",
   "metadata": {},
   "source": [
    "### King'ong'o Shell (-0.410647, 36.948380) - 1787m"
   ]
  },
  {
   "cell_type": "code",
   "execution_count": 44,
   "metadata": {},
   "outputs": [],
   "source": [
    "df_loc14 = df_zone['2022-05-29 11:40:00' : '2022-05-29 12:30:00']\n",
    "df_tim14 = df_loc14.reset_index()"
   ]
  },
  {
   "cell_type": "code",
   "execution_count": 45,
   "metadata": {},
   "outputs": [
    {
     "data": {
      "text/plain": [
       "-107.72"
      ]
     },
     "execution_count": 45,
     "metadata": {},
     "output_type": "execute_result"
    }
   ],
   "source": [
    "df_mul14 = df_tim14.loc[df_tim14['gateway_id'] == 'multitech-dsail-tower']\n",
    "df_mul14 = df_mul14.set_index('time')\n",
    "df_mul14 = df_mul14.reset_index() \n",
    "statistics.mean(df_mul14['rssi'])"
   ]
  },
  {
   "cell_type": "code",
   "execution_count": 46,
   "metadata": {},
   "outputs": [
    {
     "data": {
      "text/plain": [
       "-121.03571428571429"
      ]
     },
     "execution_count": 46,
     "metadata": {},
     "output_type": "execute_result"
    }
   ],
   "source": [
    "df_ker14 = df_tim14.loc[df_tim14['gateway_id'] == 'kerlink-dsail-tower']\n",
    "df_ker14 = df_ker14.set_index('time')\n",
    "df_ker14 = df_ker14.reset_index()\n",
    "statistics.mean(df_ker14['rssi'])"
   ]
  },
  {
   "cell_type": "markdown",
   "metadata": {},
   "source": [
    "### Maumau-Road-Muringato bridge (-0.398831, 36.892372) - 1900m "
   ]
  },
  {
   "cell_type": "code",
   "execution_count": 47,
   "metadata": {},
   "outputs": [],
   "source": [
    "df_loc15 = df_zone['2022-05-29 12:50:00' : '2022-05-29 13:40:00']\n",
    "df_tim15 = df_loc15.reset_index()"
   ]
  },
  {
   "cell_type": "code",
   "execution_count": 48,
   "metadata": {},
   "outputs": [],
   "source": [
    "df_mul15 = df_tim15.loc[df_tim15['gateway_id'] == 'multitech-dsail-tower']\n",
    "df_mul15 = df_mul15.set_index('time')\n",
    "df_mul15 = df_mul15.reset_index() \n"
   ]
  },
  {
   "cell_type": "code",
   "execution_count": 49,
   "metadata": {},
   "outputs": [
    {
     "data": {
      "text/plain": [
       "-122.63636363636364"
      ]
     },
     "execution_count": 49,
     "metadata": {},
     "output_type": "execute_result"
    }
   ],
   "source": [
    "df_ker15 = df_tim15.loc[df_tim15['gateway_id'] == 'kerlink-dsail-tower']\n",
    "df_ker15 = df_ker15.set_index('time')\n",
    "df_ker15 = df_ker15.reset_index()\n",
    "statistics.mean(df_ker15['rssi'])"
   ]
  },
  {
   "cell_type": "markdown",
   "metadata": {},
   "source": [
    "### Muringato bridge -Kamwenja Road (-0.392760, 36.908562) - 1829m"
   ]
  },
  {
   "cell_type": "code",
   "execution_count": 50,
   "metadata": {},
   "outputs": [],
   "source": [
    "df_loc16 = df_zone['2022-05-29 13:45:00' : '2022-05-29 14:20:00']\n",
    "df_tim16 = df_loc16.reset_index()"
   ]
  },
  {
   "cell_type": "code",
   "execution_count": 51,
   "metadata": {},
   "outputs": [],
   "source": [
    "df_mul16 = df_tim16.loc[df_tim16['gateway_id'] == 'multitech-dsail-tower']\n",
    "df_mul16 = df_mul16.set_index('time')\n",
    "df_mul16 = df_mul16.reset_index() "
   ]
  },
  {
   "cell_type": "code",
   "execution_count": 52,
   "metadata": {},
   "outputs": [
    {
     "data": {
      "text/plain": [
       "-124.0"
      ]
     },
     "execution_count": 52,
     "metadata": {},
     "output_type": "execute_result"
    }
   ],
   "source": [
    "df_ker16 = df_tim16.loc[df_tim16['gateway_id'] == 'kerlink-dsail-tower']\n",
    "df_ker16 = df_ker16.set_index('time')\n",
    "df_ker16 = df_ker16.reset_index()\n",
    "statistics.mean(df_ker16['rssi'])"
   ]
  },
  {
   "cell_type": "markdown",
   "metadata": {},
   "source": [
    "### King'ong'o - Gamerock  (-0.412615, 36.979656) - 1746m "
   ]
  },
  {
   "cell_type": "code",
   "execution_count": 53,
   "metadata": {},
   "outputs": [],
   "source": [
    "df_loc17 = df_zone['2022-05-29 14:45:00' : '2022-05-29 15:07:00']\n",
    "df_tim17 = df_loc17.reset_index()"
   ]
  },
  {
   "cell_type": "code",
   "execution_count": 54,
   "metadata": {},
   "outputs": [
    {
     "data": {
      "text/plain": [
       "-105.85185185185185"
      ]
     },
     "execution_count": 54,
     "metadata": {},
     "output_type": "execute_result"
    }
   ],
   "source": [
    "df_mul17 = df_tim17.loc[df_tim17['gateway_id'] == 'multitech-dsail-tower']\n",
    "df_mul17 = df_mul17.set_index('time')\n",
    "df_mul17 = df_mul17.reset_index() \n",
    "statistics.mean(df_mul17['rssi'])"
   ]
  },
  {
   "cell_type": "code",
   "execution_count": 55,
   "metadata": {},
   "outputs": [
    {
     "data": {
      "text/plain": [
       "-107.7457627118644"
      ]
     },
     "execution_count": 55,
     "metadata": {},
     "output_type": "execute_result"
    }
   ],
   "source": [
    "df_ker17 = df_tim17.loc[df_tim17['gateway_id'] == 'kerlink-dsail-tower']\n",
    "df_ker17 = df_ker17.set_index('time')\n",
    "df_ker17 = df_ker17.reset_index()\n",
    "statistics.mean(df_ker17['rssi'])"
   ]
  },
  {
   "cell_type": "markdown",
   "metadata": {},
   "source": [
    "### Nyeri - Town  (-0.421388, 36.950909) - 1759m  "
   ]
  },
  {
   "cell_type": "code",
   "execution_count": 56,
   "metadata": {},
   "outputs": [],
   "source": [
    "df_loc18 = df_zone['2022-05-29 15:08:00' : '2022-05-29 17:07:00']\n",
    "df_tim18 = df_loc18.reset_index()"
   ]
  },
  {
   "cell_type": "code",
   "execution_count": 57,
   "metadata": {},
   "outputs": [],
   "source": [
    "df_mul18 = df_tim18.loc[df_tim18['gateway_id'] == 'multitech-dsail-tower']\n",
    "df_mul18 = df_mul18.set_index('time')\n",
    "df_mul18 = df_mul18.reset_index()"
   ]
  },
  {
   "cell_type": "code",
   "execution_count": 58,
   "metadata": {},
   "outputs": [],
   "source": [
    "df_ker18 = df_tim18.loc[df_tim18['gateway_id'] == 'kerlink-dsail-tower']\n",
    "df_ker18 = df_ker18.set_index('time')\n",
    "df_ker18 = df_ker18.reset_index()\n"
   ]
  },
  {
   "cell_type": "markdown",
   "metadata": {},
   "source": [
    "## sensor location  "
   ]
  },
  {
   "cell_type": "code",
   "execution_count": 59,
   "metadata": {},
   "outputs": [
    {
     "name": "stderr",
     "output_type": "stream",
     "text": [
      "C:\\Users\\user\\Anaconda3\\envs\\usual\\lib\\site-packages\\urllib3\\connectionpool.py:1020: InsecureRequestWarning: Unverified HTTPS request is being made to host '34.105.67.126'. Adding certificate verification is strongly advised. See: https://urllib3.readthedocs.io/en/1.26.x/advanced-usage.html#ssl-warnings\n",
      "  InsecureRequestWarning,\n"
     ]
    }
   ],
   "source": [
    "client = InfluxDBClient(host = '34.105.67.126', port = 8086, username = 'admin', password = 'BSSty1KTfj9MSSJy', database = 'muringato-stack',ssl = True)\n",
    "query_str=\"select * from \\\"muringato-stack\\\" where \\\"device_id\\\" = \\'mdot6\\'\"\n",
    "result = client.query(query_str)\n",
    "result_list = list(result.get_points())\n",
    "dfs = pd.DataFrame(result_list)\n",
    "dfs[['time']] = dfs[['time']].apply(pd.to_datetime)\n",
    "#'consumed_airtime', 'channel_rssi', \n",
    "dfse = dfs.drop(['battery-voltage','height','channel_rssi','dev_eui','dev_addr','sensor','application_ids','uplink_token','frm_payload','frame_counter','received_at','port','ts','spreading_factor', 'coding_rate', 'frequency', 'gweui', 'bandwidth', 'uplink_token'], axis = 1)"
   ]
  },
  {
   "cell_type": "markdown",
   "metadata": {},
   "source": [
    "### Sensor Location "
   ]
  },
  {
   "cell_type": "code",
   "execution_count": 60,
   "metadata": {},
   "outputs": [],
   "source": [
    "df_ser = dfse.set_index('time')\n",
    "df_zone2 = df_ser.tz_convert('Africa/Nairobi')"
   ]
  },
  {
   "cell_type": "code",
   "execution_count": 61,
   "metadata": {},
   "outputs": [],
   "source": [
    "df_locse = df_zone2['2022-05-22 08:30:00' : '2022-05-22 17:02:00']\n",
    "df_timse = df_locse.reset_index()\n",
    "#df_tim.to_csv ('sample_dataset2.csv', header=True,index = False)"
   ]
  },
  {
   "cell_type": "code",
   "execution_count": 62,
   "metadata": {},
   "outputs": [
    {
     "data": {
      "text/plain": [
       "-101.27868852459017"
      ]
     },
     "execution_count": 62,
     "metadata": {},
     "output_type": "execute_result"
    }
   ],
   "source": [
    "df_mul19 = df_timse.loc[df_timse['gateway_id'] == 'multitech-dsail-tower']\n",
    "df_mul19 = df_mul19.set_index('time')\n",
    "df_mul19 = df_mul19.reset_index()\n",
    "statistics.mean(df_mul19['rssi'])"
   ]
  },
  {
   "cell_type": "code",
   "execution_count": 63,
   "metadata": {},
   "outputs": [
    {
     "data": {
      "text/plain": [
       "-107.15789473684211"
      ]
     },
     "execution_count": 63,
     "metadata": {},
     "output_type": "execute_result"
    }
   ],
   "source": [
    "df_ker19 = df_timse.loc[df_timse['gateway_id'] == 'kerlink-dsail-tower']\n",
    "df_ker19 = df_ker19.set_index('time')\n",
    "df_ker19 = df_ker19.reset_index()\n",
    "statistics.mean(df_ker19['rssi'])"
   ]
  },
  {
   "cell_type": "code",
   "execution_count": 72,
   "metadata": {},
   "outputs": [
    {
     "data": {
      "text/plain": [
       "<Figure size 5850x3150 with 0 Axes>"
      ]
     },
     "metadata": {},
     "output_type": "display_data"
    }
   ],
   "source": [
    "\n",
    "plt.rcParams['figure.figsize'] = (13, 7)\n",
    "plt.figure(dpi=450)\n",
    "plt.style.use('ggplot')\n",
    "data_1 = df_mul19['rssi'] # 0.9km\n",
    "data_2 = df_mul11['rssi'] # 1km\n",
    "data_3 = df_mul10['rssi'] # 1.6km\n",
    "data_4 = df_mul13['rssi'] # 1.71km \n",
    "data_5 = df_mul9['rssi'] # 1.81km \n",
    "data_6 = df_mul14['rssi'] # 1.9km\n",
    "data_7 = df_mul8['rssi'] # 3.6km\n",
    "data_8 = df_mul12['rssi'] # 4.5km\n",
    "data_9 = df_mul2['rssi'] # 5.7km\n",
    "data_10 = df_mul3['rssi'] # 6.2km\n",
    "data = [data_1,data_2, data_3, data_4,  data_5, data_6, data_7, data_8,  data_9, data_10]\n",
    "ticks = ['0.9', '1', '1.6','1.71','1.81', '1.9', '3.6', '4.5', '5.7', '6.2']\n",
    "lab = [1,2,3,4,5,6,7,8,9,10]\n",
    "ticks2 = dict(zip(ticks,lab))\n"
   ]
  },
  {
   "cell_type": "code",
   "execution_count": 73,
   "metadata": {},
   "outputs": [
    {
     "data": {
      "image/png": "[encoded data removed]",
      "text/plain": [
       "<Figure size 1080x720 with 1 Axes>"
      ]
     },
     "metadata": {},
     "output_type": "display_data"
    }
   ],
   "source": [
    "plt.rcParams['figure.figsize'] = (15, 10)\n",
    "fig, ax = plt.subplots(1,1)\n",
    "c = \"green\"\n",
    "fig.patch.set_facecolor('white')\n",
    "ax.boxplot(data,sym='*', patch_artist=True, notch='True',vert=True, \n",
    "           boxprops=dict(facecolor=c, color=c), medianprops=dict(color=\"red\"), whiskerprops=dict(color=\"red\"),\n",
    "           capprops=dict(color=\"red\"),flierprops=dict(color=\"red\", markeredgecolor=\"red\"))\n",
    "ax.grid(color = 'gray', linestyle = '--', linewidth = 1.2)\n",
    "ax.set_title('RSSI COMPARISON FOR THE 10 TEST LOCATIONS \\n', fontsize=18)\n",
    "ax.set_xlabel('\\n Distance from the Multitech LoRA Gateway in km', fontsize=18, weight='bold')\n",
    "ax.set_ylabel(' \\n Received Signal Strength (RSSI) in dBm ', fontsize=18, weight='bold')\n",
    "#ax.set_xticklabels([1 , 2 , 3 , 4 , 5 , 6 , 7 , 8 , 9 , 10], ticks)\n",
    "ax.set_xticklabels(ticks2, weight='bold')\n",
    "ax.tick_params(axis='y', labelsize=16)\n",
    "ax.tick_params(axis='x',which='major', labelsize=16)\n",
    "ax.set(facecolor = \"white\")\n",
    "ax.grid(True)\n",
    "\n",
    "plt.savefig('multitech_rssi.png', dpi=450, orientation='portrait', bbox_inches='tight', facecolor='w',edgecolor='b',)\n",
    "plt.show()"
   ]
  },
  {
   "cell_type": "code",
   "execution_count": 74,
   "metadata": {},
   "outputs": [],
   "source": [
    "dat_1 = df_ker19['rssi']\n",
    "dat_2 = df_ker11['rssi']\n",
    "dat_3 = df_ker10['rssi']\n",
    "dat_4 = df_ker13['rssi']\n",
    "dat_5 = df_ker9['rssi']\n",
    "dat_6 = df_ker14['rssi']\n",
    "dat_7 = df_ker8['rssi']\n",
    "dat_8 = df_ker12['rssi']\n",
    "dat_9 = df_ker2['rssi']\n",
    "dat_10 = df_ker3['rssi']\n",
    "dat = [dat_1, dat_2, dat_3, dat_4,  dat_5, dat_6, dat_7, dat_8,  dat_9, dat_10]"
   ]
  },
  {
   "cell_type": "code",
   "execution_count": 75,
   "metadata": {},
   "outputs": [
    {
     "data": {
      "image/png": "[encoded data removed]",
      "text/plain": [
       "<Figure size 1080x648 with 1 Axes>"
      ]
     },
     "metadata": {},
     "output_type": "display_data"
    }
   ],
   "source": [
    "plt.rcParams['figure.figsize'] = (15, 9)\n",
    "fig, ax = plt.subplots(1,1)\n",
    "c = \"green\"\n",
    "fig.patch.set_facecolor('white')\n",
    "ax.boxplot(dat,sym='*', patch_artist=True, notch='True',vert=True, \n",
    "           boxprops=dict(facecolor=c, color=c), medianprops=dict(color=\"red\"), whiskerprops=dict(color=\"red\"),\n",
    "           capprops=dict(color=\"red\"),flierprops=dict(color=\"red\", markeredgecolor=\"red\"))\n",
    "ax.grid(color = 'gray', linestyle = '--', linewidth = 0.8)\n",
    "ax.set_title('RSSI COMPARISON FOR THE 10 TEST LOCATIONS \\n', fontsize=18)\n",
    "ax.set_xlabel('\\n Distance from the Kerlink LoRA Gateway in km', fontsize=18, weight='bold')\n",
    "ax.set_ylabel(' \\n Received Signal Strength (RSSI) in dBm ', fontsize=18, weight='bold')\n",
    "#ax.set_xticklabels([1 , 2 , 3 , 4 , 5 , 6 , 7 , 8 , 9 , 10], ticks)\n",
    "ax.set_xticklabels(ticks2, weight='bold')\n",
    "ax.tick_params(axis='y', labelsize=16)\n",
    "ax.tick_params(axis='x',which='major', labelsize=16)\n",
    "ax.set(facecolor = \"white\")\n",
    "ax.grid(True)\n",
    "\n",
    "plt.savefig('kerlink_snr.png', dpi=450, orientation='portrait', bbox_inches='tight', facecolor='w',edgecolor='b',)\n",
    "plt.show()"
   ]
  },
  {
   "cell_type": "code",
   "execution_count": null,
   "metadata": {},
   "outputs": [],
   "source": []
  }
 ],
 "metadata": {
  "kernelspec": {
   "display_name": "Python 3 (ipykernel)",
   "language": "python",
   "name": "python3"
  },
  "language_info": {
   "codemirror_mode": {
    "name": "ipython",
    "version": 3
   },
   "file_extension": ".py",
   "mimetype": "text/x-python",
   "name": "python",
   "nbconvert_exporter": "python",
   "pygments_lexer": "ipython3",
   "version": "3.7.13"
  }
 },
 "nbformat": 4,
 "nbformat_minor": 2
}
