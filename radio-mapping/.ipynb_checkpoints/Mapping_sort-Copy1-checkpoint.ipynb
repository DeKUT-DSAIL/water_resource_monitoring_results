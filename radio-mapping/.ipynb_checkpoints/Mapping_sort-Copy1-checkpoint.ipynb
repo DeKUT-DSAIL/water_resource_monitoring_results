{
 "cells": [
  {
   "cell_type": "markdown",
   "metadata": {},
   "source": [
    "### import modules "
   ]
  },
  {
   "cell_type": "code",
   "execution_count": 1,
   "metadata": {},
   "outputs": [],
   "source": [
    "import pandas as pd\n",
    "from matplotlib import pyplot as plt\n",
    "from pandas import DataFrame, Series\n",
    "from pandas.io.json import json_normalize\n",
    "from influxdb import InfluxDBClient\n",
    "from datetime import datetime, timedelta\n",
    "import numpy as np \n",
    "import pytz\n",
    "plt.rcParams['figure.figsize'] = (15, 7)\n",
    "plt.figure(dpi=450)\n",
    "plt.style.use('ggplot')"
   ]
  },
  {
   "cell_type": "markdown",
   "metadata": {},
   "source": [
    "### Data import "
   ]
  },
  {
   "cell_type": "code",
   "execution_count": 2,
   "metadata": {},
   "outputs": [
    {
     "name": "stderr",
     "output_type": "stream",
     "text": [
      "C:\\Users\\Folio\\Anaconda3\\envs\\watershed2\\lib\\site-packages\\urllib3\\connectionpool.py:851: InsecureRequestWarning: Unverified HTTPS request is being made. Adding certificate verification is strongly advised. See: https://urllib3.readthedocs.io/en/latest/advanced-usage.html#ssl-warnings\n",
      "  InsecureRequestWarning)\n"
     ]
    }
   ],
   "source": [
    "client = InfluxDBClient(host = '34.105.67.126', port = 8086, username = 'admin', password = 'BSSty1KTfj9MSSJy', database = 'muringato-stack',ssl = True)\n",
    "query_str=\"select * from \\\"muringato-stack\\\" where \\\"device_id\\\" = \\'mdot8\\'\"\n",
    "result = client.query(query_str)\n",
    "result_list = list(result.get_points())\n",
    "df = pd.DataFrame(result_list)\n",
    "df[['time']] = df[['time']].apply(pd.to_datetime)\n",
    "#'consumed_airtime', 'channel_rssi', \n",
    "df2 = df.drop(['battery-voltage','height','channel_rssi','dev_eui','dev_addr','sensor','application_ids','uplink_token','frm_payload','frame_counter','received_at','port','ts','spreading_factor', 'coding_rate', 'frequency', 'gweui', 'bandwidth', 'uplink_token'], axis = 1)"
   ]
  },
  {
   "cell_type": "code",
   "execution_count": 3,
   "metadata": {},
   "outputs": [],
   "source": [
    "df5 = df2.set_index('time')\n",
    "df_zone = df5.tz_convert('Africa/Nairobi')"
   ]
  },
  {
   "cell_type": "markdown",
   "metadata": {},
   "source": [
    "## Kerlink gateway : -0.397979, 36.961349, 1767m\n",
    "## Multitech gateway : -0.398390, 36.960342 , 1773m"
   ]
  },
  {
   "cell_type": "markdown",
   "metadata": {},
   "source": [
    "### Nyeri Hill 1  (-0.410225, 36.913601) - 1917m "
   ]
  },
  {
   "cell_type": "code",
   "execution_count": 4,
   "metadata": {},
   "outputs": [],
   "source": [
    "df_loc1 = df_zone['2022-05-22 09:30:00' : '2022-05-22 10:02:00']\n",
    "df_tim1 = df_loc1.reset_index()\n",
    "#df_tim.to_csv ('sample_dataset2.csv', header=True,index = False)"
   ]
  },
  {
   "cell_type": "code",
   "execution_count": 5,
   "metadata": {},
   "outputs": [],
   "source": [
    "df_mul1 = df_tim1.loc[df_tim1['gateway_id'] == 'multitech-dsail-tower']\n",
    "df_mul1 = df_mul1.set_index('time')\n",
    "df_mul1= df_mul1.reset_index()"
   ]
  },
  {
   "cell_type": "code",
   "execution_count": 6,
   "metadata": {},
   "outputs": [],
   "source": [
    "df_ker1 = df_tim1.loc[df_tim1['gateway_id'] == 'kerlink-dsail-tower']\n",
    "df_ker1 = df_ker1.set_index('time')\n",
    "df_ker1 = df_ker1.reset_index()"
   ]
  },
  {
   "cell_type": "markdown",
   "metadata": {},
   "source": [
    "#### Kerlink "
   ]
  },
  {
   "cell_type": "code",
   "execution_count": 8,
   "metadata": {},
   "outputs": [
    {
     "name": "stdout",
     "output_type": "stream",
     "text": [
      "5.484925375295157\n"
     ]
    }
   ],
   "source": [
    "from geopy.distance import geodesic\n",
    "origin = (-0.397979, 36.961349) \n",
    "dist = (-0.410225, 36.913601)\n",
    "print(geodesic(origin, dist).kilometers)  "
   ]
  },
  {
   "cell_type": "markdown",
   "metadata": {},
   "source": [
    "#### Multitech "
   ]
  },
  {
   "cell_type": "code",
   "execution_count": 10,
   "metadata": {},
   "outputs": [
    {
     "name": "stdout",
     "output_type": "stream",
     "text": [
      "5.3651044205516785\n"
     ]
    }
   ],
   "source": [
    "origin = (-0.398390, 36.960342) \n",
    "dist = (-0.410225, 36.913601)\n",
    "print(geodesic(origin, dist).kilometers)  "
   ]
  },
  {
   "cell_type": "markdown",
   "metadata": {},
   "source": [
    "### Nyeri Hill 2  (-0.406542, 36.909702) - 1953m  "
   ]
  },
  {
   "cell_type": "code",
   "execution_count": 11,
   "metadata": {},
   "outputs": [],
   "source": [
    "df_loc2 = df_zone['2022-05-22 10:12:00' : '2022-05-22 10:37:00']\n",
    "df_tim2 = df_loc2.reset_index()"
   ]
  },
  {
   "cell_type": "code",
   "execution_count": 12,
   "metadata": {},
   "outputs": [],
   "source": [
    "df_mul2 = df_tim2.loc[df_tim2['gateway_id'] == 'multitech-dsail-tower']\n",
    "df_mul2 = df_mul2.set_index('time')\n",
    "df_mul2= df_mul2.reset_index()"
   ]
  },
  {
   "cell_type": "code",
   "execution_count": 13,
   "metadata": {},
   "outputs": [],
   "source": [
    "df_ker2 = df_tim2.loc[df_tim2['gateway_id'] == 'kerlink-dsail-tower']\n",
    "df_ker2 = df_ker2.set_index('time')\n",
    "df_ker2 = df_ker2.reset_index()"
   ]
  },
  {
   "cell_type": "markdown",
   "metadata": {},
   "source": [
    "#### Kerlink "
   ]
  },
  {
   "cell_type": "code",
   "execution_count": 14,
   "metadata": {},
   "outputs": [
    {
     "name": "stdout",
     "output_type": "stream",
     "text": [
      "5.826624852852921\n"
     ]
    }
   ],
   "source": [
    "origin = (-0.397979, 36.961349) \n",
    "dist = (-0.406542, 36.909702)\n",
    "print(geodesic(origin, dist).kilometers)  "
   ]
  },
  {
   "cell_type": "markdown",
   "metadata": {},
   "source": [
    "#### Multitech "
   ]
  },
  {
   "cell_type": "code",
   "execution_count": 15,
   "metadata": {},
   "outputs": [
    {
     "name": "stdout",
     "output_type": "stream",
     "text": [
      "5.708695661179848\n"
     ]
    }
   ],
   "source": [
    "origin = (-0.398390, 36.960342) \n",
    "dist = (-0.406542, 36.909702)\n",
    "print(geodesic(origin, dist).kilometers)  "
   ]
  },
  {
   "cell_type": "markdown",
   "metadata": {},
   "source": [
    "### Nyeri Hill 3  (-0.404288, 36.904404) - 1941m  - mwenji"
   ]
  },
  {
   "cell_type": "code",
   "execution_count": 16,
   "metadata": {},
   "outputs": [],
   "source": [
    "df_loc3 = df_zone['2022-05-22 10:39:00' : '2022-05-22 10:58:00']\n",
    "df_tim3 = df_loc3.reset_index()"
   ]
  },
  {
   "cell_type": "code",
   "execution_count": 17,
   "metadata": {},
   "outputs": [],
   "source": [
    "df_mul3 = df_tim3.loc[df_tim3['gateway_id'] == 'multitech-dsail-tower']\n",
    "df_mul3 = df_mul3.set_index('time')\n",
    "df_mul3 = df_mul3.reset_index()"
   ]
  },
  {
   "cell_type": "code",
   "execution_count": 18,
   "metadata": {},
   "outputs": [],
   "source": [
    "df_ker3 = df_tim3.loc[df_tim3['gateway_id'] == 'kerlink-dsail-tower']\n",
    "df_ker3 = df_ker3.set_index('time')\n",
    "df_ker3 = df_ker3.reset_index()"
   ]
  },
  {
   "cell_type": "markdown",
   "metadata": {},
   "source": [
    "#### kerlink "
   ]
  },
  {
   "cell_type": "code",
   "execution_count": 19,
   "metadata": {},
   "outputs": [
    {
     "name": "stdout",
     "output_type": "stream",
     "text": [
      "6.377205488930338\n"
     ]
    }
   ],
   "source": [
    "origin = (-0.397979, 36.961349) \n",
    "dist = (-0.404288, 36.904404)\n",
    "print(geodesic(origin, dist).kilometers)  "
   ]
  },
  {
   "cell_type": "markdown",
   "metadata": {},
   "source": [
    "#### multitech"
   ]
  },
  {
   "cell_type": "code",
   "execution_count": 20,
   "metadata": {},
   "outputs": [
    {
     "name": "stdout",
     "output_type": "stream",
     "text": [
      "6.260897135022732\n"
     ]
    }
   ],
   "source": [
    "origin = (-0.398390, 36.960342) \n",
    "dist = (-0.404288, 36.904404)\n",
    "print(geodesic(origin, dist).kilometers)  "
   ]
  },
  {
   "cell_type": "markdown",
   "metadata": {},
   "source": [
    "### Nyeri Hill 4  (-0.406380, 36.896317) - 1985m   - ihururu"
   ]
  },
  {
   "cell_type": "code",
   "execution_count": 21,
   "metadata": {},
   "outputs": [],
   "source": [
    "df_loc4 = df_zone['2022-05-22 11:08:00' : '2022-05-22 11:35:00']\n",
    "df_tim4 = df_loc4.reset_index()"
   ]
  },
  {
   "cell_type": "code",
   "execution_count": 22,
   "metadata": {},
   "outputs": [],
   "source": [
    "df_mul4 = df_tim4.loc[df_tim4['gateway_id'] == 'multitech-dsail-tower']\n",
    "df_mul4 = df_mul4.set_index('time')\n",
    "df_mul4 = df_mul4.reset_index()"
   ]
  },
  {
   "cell_type": "code",
   "execution_count": 23,
   "metadata": {},
   "outputs": [],
   "source": [
    "df_ker4 = df_tim4.loc[df_tim4['gateway_id'] == 'kerlink-dsail-tower']\n",
    "df_ker4 = df_ker4.set_index('time')\n",
    "df_ker4 = df_ker4.reset_index()"
   ]
  },
  {
   "cell_type": "markdown",
   "metadata": {},
   "source": [
    "#### kerlink "
   ]
  },
  {
   "cell_type": "code",
   "execution_count": 24,
   "metadata": {},
   "outputs": [
    {
     "name": "stdout",
     "output_type": "stream",
     "text": [
      "7.298509529531355\n"
     ]
    }
   ],
   "source": [
    "origin = (-0.397979, 36.961349) \n",
    "dist = (-0.406380, 36.896317)\n",
    "print(geodesic(origin, dist).kilometers)  "
   ]
  },
  {
   "cell_type": "markdown",
   "metadata": {},
   "source": [
    "#### multitech "
   ]
  },
  {
   "cell_type": "code",
   "execution_count": 25,
   "metadata": {},
   "outputs": [
    {
     "name": "stdout",
     "output_type": "stream",
     "text": [
      "7.181606860554794\n"
     ]
    }
   ],
   "source": [
    "origin = (-0.398390, 36.960342) \n",
    "dist = (-0.406380, 36.896317)\n",
    "print(geodesic(origin, dist).kilometers)  "
   ]
  },
  {
   "cell_type": "markdown",
   "metadata": {},
   "source": [
    "### Nyeri Hill 5 (-0.414681, 36.918831) - 1839m - mathari"
   ]
  },
  {
   "cell_type": "code",
   "execution_count": 26,
   "metadata": {},
   "outputs": [],
   "source": [
    "df_loc5 = df_zone['2022-05-22 11:08:00' : '2022-05-22 11:35:00']\n",
    "df_tim5 = df_loc5.reset_index()"
   ]
  },
  {
   "cell_type": "code",
   "execution_count": 27,
   "metadata": {},
   "outputs": [],
   "source": [
    "df_mul5 = df_tim5.loc[df_tim5['gateway_id'] == 'multitech-dsail-tower']\n",
    "df_mul5 = df_mul5.set_index('time')\n",
    "df_mul5 = df_mul5.reset_index()"
   ]
  },
  {
   "cell_type": "code",
   "execution_count": 28,
   "metadata": {},
   "outputs": [],
   "source": [
    "df_ker5 = df_tim5.loc[df_tim5['gateway_id'] == 'kerlink-dsail-tower']\n",
    "df_ker5 = df_ker5.set_index('time')\n",
    "df_ker5 = df_ker5.reset_index()"
   ]
  },
  {
   "cell_type": "markdown",
   "metadata": {},
   "source": [
    "#### kerlink"
   ]
  },
  {
   "cell_type": "code",
   "execution_count": 29,
   "metadata": {},
   "outputs": [
    {
     "name": "stdout",
     "output_type": "stream",
     "text": [
      "5.0805180191745745\n"
     ]
    }
   ],
   "source": [
    "origin = (-0.397979, 36.961349) \n",
    "dist = (-0.414681, 36.918831)\n",
    "print(geodesic(origin, dist).kilometers) "
   ]
  },
  {
   "cell_type": "markdown",
   "metadata": {},
   "source": [
    "#### multitech"
   ]
  },
  {
   "cell_type": "code",
   "execution_count": 30,
   "metadata": {},
   "outputs": [
    {
     "name": "stdout",
     "output_type": "stream",
     "text": [
      "4.959570596908797\n"
     ]
    }
   ],
   "source": [
    "origin = (-0.398390, 36.960342) \n",
    "dist = (-0.414681, 36.918831)\n",
    "print(geodesic(origin, dist).kilometers)  "
   ]
  },
  {
   "cell_type": "markdown",
   "metadata": {},
   "source": [
    "### Kiganjo Police (-0.390500, 37.002533) - 1737m  "
   ]
  },
  {
   "cell_type": "code",
   "execution_count": 31,
   "metadata": {},
   "outputs": [],
   "source": [
    "df_loc6 = df_zone['2022-05-22 14:03:00' : '2022-05-22 14:38:00']\n",
    "df_tim6 = df_loc6.reset_index()"
   ]
  },
  {
   "cell_type": "code",
   "execution_count": 32,
   "metadata": {},
   "outputs": [],
   "source": [
    "df_mul6 = df_tim6.loc[df_tim6['gateway_id'] == 'multitech-dsail-tower']\n",
    "df_mul6 = df_mul6.set_index('time')\n",
    "df_mul6 = df_mul6.reset_index()"
   ]
  },
  {
   "cell_type": "code",
   "execution_count": 33,
   "metadata": {},
   "outputs": [],
   "source": [
    "df_ker6 = df_tim6.loc[df_tim6['gateway_id'] == 'kerlink-dsail-tower']\n",
    "df_ker6 = df_ker6.set_index('time')\n",
    "df_ker6 = df_ker6.reset_index()"
   ]
  },
  {
   "cell_type": "markdown",
   "metadata": {},
   "source": [
    "#### kerlink"
   ]
  },
  {
   "cell_type": "code",
   "execution_count": 34,
   "metadata": {},
   "outputs": [
    {
     "name": "stdout",
     "output_type": "stream",
     "text": [
      "4.658466235091815\n"
     ]
    }
   ],
   "source": [
    "origin = (-0.397979, 36.961349) \n",
    "dist = (-0.390500, 37.002533)\n",
    "print(geodesic(origin, dist).kilometers) "
   ]
  },
  {
   "cell_type": "markdown",
   "metadata": {},
   "source": [
    "#### multitech"
   ]
  },
  {
   "cell_type": "code",
   "execution_count": 35,
   "metadata": {},
   "outputs": [
    {
     "name": "stdout",
     "output_type": "stream",
     "text": [
      "4.77691397758464\n"
     ]
    }
   ],
   "source": [
    "origin = (-0.398390, 36.960342) \n",
    "dist = (-0.390500, 37.002533)\n",
    "print(geodesic(origin, dist).kilometers)  "
   ]
  },
  {
   "cell_type": "markdown",
   "metadata": {},
   "source": [
    "### Chaka - Nyaribo Junction (-0.350040, 37.000561) - 1758m  "
   ]
  },
  {
   "cell_type": "code",
   "execution_count": 36,
   "metadata": {},
   "outputs": [],
   "source": [
    "df_loc7 = df_zone['2022-05-22 15:08:00' : '2022-05-22 15:42:00']\n",
    "df_tim7 = df_loc7.reset_index()"
   ]
  },
  {
   "cell_type": "code",
   "execution_count": 37,
   "metadata": {},
   "outputs": [],
   "source": [
    "df_mul7 = df_tim7.loc[df_tim7['gateway_id'] == 'multitech-dsail-tower']\n",
    "df_mul7 = df_mul7.set_index('time')\n",
    "df_mul7 = df_mul7.reset_index()"
   ]
  },
  {
   "cell_type": "code",
   "execution_count": 38,
   "metadata": {},
   "outputs": [],
   "source": [
    "df_ker7 = df_tim7.loc[df_tim7['gateway_id'] == 'kerlink-dsail-tower']\n",
    "df_ker7 = df_ker7.set_index('time')\n",
    "df_ker7 = df_ker7.reset_index()"
   ]
  },
  {
   "cell_type": "markdown",
   "metadata": {},
   "source": [
    "#### kerlink"
   ]
  },
  {
   "cell_type": "code",
   "execution_count": 39,
   "metadata": {},
   "outputs": [
    {
     "name": "stdout",
     "output_type": "stream",
     "text": [
      "6.86670656888607\n"
     ]
    }
   ],
   "source": [
    "origin = (-0.397979, 36.961349) \n",
    "dist = (-0.350040, 37.000561)\n",
    "print(geodesic(origin, dist).kilometers) "
   ]
  },
  {
   "cell_type": "markdown",
   "metadata": {},
   "source": [
    "#### multitech"
   ]
  },
  {
   "cell_type": "code",
   "execution_count": 40,
   "metadata": {},
   "outputs": [
    {
     "name": "stdout",
     "output_type": "stream",
     "text": [
      "6.973283717253041\n"
     ]
    }
   ],
   "source": [
    "origin = (-0.398390, 36.960342) \n",
    "dist = (-0.350040, 37.000561)\n",
    "print(geodesic(origin, dist).kilometers)  "
   ]
  },
  {
   "cell_type": "markdown",
   "metadata": {},
   "source": [
    "### Nyaribo Shopping centre (-0.376903, 36.983826) - 1761m   "
   ]
  },
  {
   "cell_type": "code",
   "execution_count": 41,
   "metadata": {},
   "outputs": [],
   "source": [
    "df_loc8 = df_zone['2022-05-22 15:48:00' : '2022-05-22 16:23:00']\n",
    "df_tim8 = df_loc8.reset_index()"
   ]
  },
  {
   "cell_type": "code",
   "execution_count": 42,
   "metadata": {},
   "outputs": [],
   "source": [
    "df_mul8 = df_tim8.loc[df_tim8['gateway_id'] == 'multitech-dsail-tower']\n",
    "df_mul8 = df_mul8.set_index('time')\n",
    "df_mul8 = df_mul8.reset_index()"
   ]
  },
  {
   "cell_type": "code",
   "execution_count": 43,
   "metadata": {},
   "outputs": [],
   "source": [
    "df_ker8 = df_tim8.loc[df_tim8['gateway_id'] == 'kerlink-dsail-tower']\n",
    "df_ker8 = df_ker8.set_index('time')\n",
    "df_ker8 = df_ker8.reset_index()"
   ]
  },
  {
   "cell_type": "markdown",
   "metadata": {},
   "source": [
    "#### kerlink"
   ]
  },
  {
   "cell_type": "code",
   "execution_count": 44,
   "metadata": {},
   "outputs": [
    {
     "name": "stdout",
     "output_type": "stream",
     "text": [
      "3.419272714683334\n"
     ]
    }
   ],
   "source": [
    "origin = (-0.397979, 36.961349) \n",
    "dist = (-0.376903, 36.983826)\n",
    "print(geodesic(origin, dist).kilometers) "
   ]
  },
  {
   "cell_type": "markdown",
   "metadata": {},
   "source": [
    "#### multitech"
   ]
  },
  {
   "cell_type": "code",
   "execution_count": 45,
   "metadata": {},
   "outputs": [
    {
     "name": "stdout",
     "output_type": "stream",
     "text": [
      "3.5325376939392914\n"
     ]
    }
   ],
   "source": [
    "origin = (-0.398390, 36.960342) \n",
    "dist = (-0.376903, 36.983826)\n",
    "print(geodesic(origin, dist).kilometers)  "
   ]
  },
  {
   "cell_type": "markdown",
   "metadata": {},
   "source": [
    "### King'ong'o - Almasi bottlers (-0.414613, 36.957924) - 1788m "
   ]
  },
  {
   "cell_type": "code",
   "execution_count": 46,
   "metadata": {},
   "outputs": [],
   "source": [
    "df_loc9 = df_zone['2022-05-22 17:28:00' : '2022-05-22 18:05:00']\n",
    "df_tim9 = df_loc9.reset_index()"
   ]
  },
  {
   "cell_type": "code",
   "execution_count": 47,
   "metadata": {},
   "outputs": [],
   "source": [
    "df_mul9 = df_tim9.loc[df_tim9['gateway_id'] == 'multitech-dsail-tower']\n",
    "df_mul9 = df_mul9.set_index('time')\n",
    "df_mul9 = df_mul9.reset_index()"
   ]
  },
  {
   "cell_type": "code",
   "execution_count": 48,
   "metadata": {},
   "outputs": [],
   "source": [
    "df_ker9 = df_tim9.loc[df_tim9['gateway_id'] == 'kerlink-dsail-tower']\n",
    "df_ker9 = df_ker9.set_index('time')\n",
    "df_ker9 = df_ker9.reset_index()"
   ]
  },
  {
   "cell_type": "markdown",
   "metadata": {},
   "source": [
    "#### kerlink"
   ]
  },
  {
   "cell_type": "code",
   "execution_count": 49,
   "metadata": {},
   "outputs": [
    {
     "name": "stdout",
     "output_type": "stream",
     "text": [
      "1.8783927480714324\n"
     ]
    }
   ],
   "source": [
    "origin = (-0.397979, 36.961349) \n",
    "dist = (-0.414613, 36.957924)\n",
    "print(geodesic(origin, dist).kilometers) "
   ]
  },
  {
   "cell_type": "markdown",
   "metadata": {},
   "source": [
    "#### multitech"
   ]
  },
  {
   "cell_type": "code",
   "execution_count": 50,
   "metadata": {},
   "outputs": [
    {
     "name": "stdout",
     "output_type": "stream",
     "text": [
      "1.813928770847766\n"
     ]
    }
   ],
   "source": [
    "origin = (-0.398390, 36.960342) \n",
    "dist = (-0.414613, 36.957924)\n",
    "print(geodesic(origin, dist).kilometers)  "
   ]
  },
  {
   "cell_type": "markdown",
   "metadata": {},
   "source": [
    "### Muringato-1k  (-0.406104, 36.948135) - 1734m  "
   ]
  },
  {
   "cell_type": "code",
   "execution_count": 51,
   "metadata": {},
   "outputs": [],
   "source": [
    "df_loc10 = df_zone['2022-05-22 22:40:00' : '2022-05-22 23:12:00']\n",
    "df_tim10 = df_loc10.reset_index()"
   ]
  },
  {
   "cell_type": "code",
   "execution_count": 52,
   "metadata": {},
   "outputs": [],
   "source": [
    "df_mul10 = df_tim10.loc[df_tim10['gateway_id'] == 'multitech-dsail-tower']\n",
    "df_mul10 = df_mul10.set_index('time')\n",
    "df_mul10 = df_mul10.reset_index()"
   ]
  },
  {
   "cell_type": "code",
   "execution_count": 53,
   "metadata": {},
   "outputs": [],
   "source": [
    "df_ker10 = df_tim10.loc[df_tim10['gateway_id'] == 'kerlink-dsail-tower']\n",
    "df_ker10 = df_ker10.set_index('time')\n",
    "df_ker10 = df_ker10.reset_index()"
   ]
  },
  {
   "cell_type": "markdown",
   "metadata": {},
   "source": [
    "#### kerlink"
   ]
  },
  {
   "cell_type": "code",
   "execution_count": 54,
   "metadata": {},
   "outputs": [
    {
     "name": "stdout",
     "output_type": "stream",
     "text": [
      "1.7236055014850957\n"
     ]
    }
   ],
   "source": [
    "origin = (-0.397979, 36.961349) \n",
    "dist = (-0.406104, 36.948135)\n",
    "print(geodesic(origin, dist).kilometers) "
   ]
  },
  {
   "cell_type": "markdown",
   "metadata": {},
   "source": [
    "#### multitech"
   ]
  },
  {
   "cell_type": "code",
   "execution_count": 55,
   "metadata": {},
   "outputs": [
    {
     "name": "stdout",
     "output_type": "stream",
     "text": [
      "1.6043736601357943\n"
     ]
    }
   ],
   "source": [
    "origin = (-0.398390, 36.960342) \n",
    "dist = (-0.406104, 36.948135)\n",
    "print(geodesic(origin, dist).kilometers)  "
   ]
  },
  {
   "cell_type": "markdown",
   "metadata": {},
   "source": [
    "### Conservancy Junction  (-0.389861, 36.956863) - 1768m   "
   ]
  },
  {
   "cell_type": "code",
   "execution_count": 56,
   "metadata": {},
   "outputs": [],
   "source": [
    "df_loc11 = df_zone['2022-05-29 08:30:00' : '2022-05-29 09:02:00']\n",
    "df_tim11 = df_loc11.reset_index()"
   ]
  },
  {
   "cell_type": "code",
   "execution_count": 57,
   "metadata": {},
   "outputs": [],
   "source": [
    "df_mul11 = df_tim11.loc[df_tim11['gateway_id'] == 'multitech-dsail-tower']\n",
    "df_mul11 = df_mul11.set_index('time')\n",
    "df_mul11 = df_mul11.reset_index()"
   ]
  },
  {
   "cell_type": "code",
   "execution_count": 58,
   "metadata": {},
   "outputs": [],
   "source": [
    "df_ker11 = df_tim11.loc[df_tim11['gateway_id'] == 'kerlink-dsail-tower']\n",
    "df_ker11 = df_ker11.set_index('time')\n",
    "df_ker11 = df_ker11.reset_index()"
   ]
  },
  {
   "cell_type": "markdown",
   "metadata": {},
   "source": [
    "#### kerlink"
   ]
  },
  {
   "cell_type": "code",
   "execution_count": 59,
   "metadata": {},
   "outputs": [
    {
     "name": "stdout",
     "output_type": "stream",
     "text": [
      "1.0271951057080428\n"
     ]
    }
   ],
   "source": [
    "origin = (-0.397979, 36.961349) \n",
    "dist = (-0.389861, 36.956863)\n",
    "print(geodesic(origin, dist).kilometers) "
   ]
  },
  {
   "cell_type": "markdown",
   "metadata": {},
   "source": [
    "#### multitech"
   ]
  },
  {
   "cell_type": "code",
   "execution_count": 60,
   "metadata": {},
   "outputs": [
    {
     "name": "stdout",
     "output_type": "stream",
     "text": [
      "1.0195072146297992\n"
     ]
    }
   ],
   "source": [
    "origin = (-0.398390, 36.960342) \n",
    "dist = (-0.389861, 36.956863)\n",
    "print(geodesic(origin, dist).kilometers)  "
   ]
  },
  {
   "cell_type": "markdown",
   "metadata": {},
   "source": [
    "### Embassy-Golden gates   (-0.371265, 36.930866) - 1856m    "
   ]
  },
  {
   "cell_type": "code",
   "execution_count": 61,
   "metadata": {},
   "outputs": [],
   "source": [
    "df_loc12 = df_zone['2022-05-29 09:30:00' : '2022-05-29 10:05:00']\n",
    "df_tim12 = df_loc12.reset_index()"
   ]
  },
  {
   "cell_type": "code",
   "execution_count": 62,
   "metadata": {},
   "outputs": [],
   "source": [
    "df_mul12 = df_tim12.loc[df_tim12['gateway_id'] == 'multitech-dsail-tower']\n",
    "df_mul12 = df_mul12.set_index('time')\n",
    "df_mul12 = df_mul12.reset_index()"
   ]
  },
  {
   "cell_type": "code",
   "execution_count": 66,
   "metadata": {},
   "outputs": [],
   "source": [
    "df_ker12 = df_tim12.loc[df_tim12['gateway_id'] == 'kerlink-dsail-tower']\n",
    "df_ker12 = df_ker12.set_index('time')\n",
    "df_ker12 = df_ker12.reset_index()"
   ]
  },
  {
   "cell_type": "markdown",
   "metadata": {},
   "source": [
    "### Muringato-Bridge-Main Road  (-0.402339, 36.945244) - 1729m"
   ]
  },
  {
   "cell_type": "code",
   "execution_count": 67,
   "metadata": {},
   "outputs": [],
   "source": [
    "df_loc13 = df_zone['2022-05-29 10:45:00' : '2022-05-29 11:15:00']\n",
    "df_tim13 = df_loc13.reset_index()"
   ]
  },
  {
   "cell_type": "code",
   "execution_count": 68,
   "metadata": {},
   "outputs": [],
   "source": [
    "df_mul13 = df_tim13.loc[df_tim13['gateway_id'] == 'multitech-dsail-tower']\n",
    "df_mul13 = df_mul13.set_index('time')\n",
    "df_mul13 = df_mul13.reset_index()"
   ]
  },
  {
   "cell_type": "code",
   "execution_count": 69,
   "metadata": {},
   "outputs": [],
   "source": [
    "df_ker13 = df_tim13.loc[df_tim13['gateway_id'] == 'kerlink-dsail-tower']\n",
    "df_ker13 = df_ker13.set_index('time')\n",
    "df_ker13 = df_ker13.reset_index()"
   ]
  },
  {
   "cell_type": "markdown",
   "metadata": {},
   "source": [
    "### King'ong'o Shell (-0.410647, 36.948380) - 1787m"
   ]
  },
  {
   "cell_type": "code",
   "execution_count": 73,
   "metadata": {},
   "outputs": [],
   "source": [
    "df_loc14 = df_zone['2022-05-29 11:40:00' : '2022-05-29 12:30:00']\n",
    "df_tim14 = df_loc14.reset_index()"
   ]
  },
  {
   "cell_type": "code",
   "execution_count": 74,
   "metadata": {},
   "outputs": [],
   "source": [
    "df_mul14 = df_tim14.loc[df_tim14['gateway_id'] == 'multitech-dsail-tower']\n",
    "df_mul14 = df_mul14.set_index('time')\n",
    "df_mul14 = df_mul14.reset_index() "
   ]
  },
  {
   "cell_type": "code",
   "execution_count": 75,
   "metadata": {},
   "outputs": [],
   "source": [
    "df_ker14 = df_tim14.loc[df_tim14['gateway_id'] == 'kerlink-dsail-tower']\n",
    "df_ker14 = df_ker14.set_index('time')\n",
    "df_ker14 = df_ker14.reset_index()"
   ]
  },
  {
   "cell_type": "markdown",
   "metadata": {},
   "source": [
    "### Maumau-Road-Muringato bridge (-0.398831, 36.892372) - 1900m "
   ]
  },
  {
   "cell_type": "code",
   "execution_count": 78,
   "metadata": {},
   "outputs": [],
   "source": [
    "df_loc15 = df_zone['2022-05-29 12:50:00' : '2022-05-29 13:40:00']\n",
    "df_tim15 = df_loc15.reset_index()"
   ]
  },
  {
   "cell_type": "code",
   "execution_count": 79,
   "metadata": {},
   "outputs": [],
   "source": [
    "df_mul15 = df_tim15.loc[df_tim15['gateway_id'] == 'multitech-dsail-tower']\n",
    "df_mul15 = df_mul15.set_index('time')\n",
    "df_mul15 = df_mul15.reset_index() "
   ]
  },
  {
   "cell_type": "code",
   "execution_count": 80,
   "metadata": {},
   "outputs": [],
   "source": [
    "df_ker15 = df_tim15.loc[df_tim15['gateway_id'] == 'kerlink-dsail-tower']\n",
    "df_ker15 = df_ker15.set_index('time')\n",
    "df_ker15 = df_ker15.reset_index()"
   ]
  },
  {
   "cell_type": "markdown",
   "metadata": {},
   "source": [
    "### Muringato bridge -Kamwenja Road (-0.392760, 36.908562) - 1829m"
   ]
  },
  {
   "cell_type": "code",
   "execution_count": 84,
   "metadata": {},
   "outputs": [],
   "source": [
    "df_loc16 = df_zone['2022-05-29 13:45:00' : '2022-05-29 14:20:00']\n",
    "df_tim16 = df_loc16.reset_index()"
   ]
  },
  {
   "cell_type": "code",
   "execution_count": 85,
   "metadata": {},
   "outputs": [],
   "source": [
    "df_mul16 = df_tim16.loc[df_tim16['gateway_id'] == 'multitech-dsail-tower']\n",
    "df_mul16 = df_mul16.set_index('time')\n",
    "df_mul16 = df_mul16.reset_index() "
   ]
  },
  {
   "cell_type": "code",
   "execution_count": 86,
   "metadata": {},
   "outputs": [],
   "source": [
    "df_ker16 = df_tim16.loc[df_tim16['gateway_id'] == 'kerlink-dsail-tower']\n",
    "df_ker16 = df_ker16.set_index('time')\n",
    "df_ker16 = df_ker16.reset_index()"
   ]
  },
  {
   "cell_type": "markdown",
   "metadata": {},
   "source": [
    "### King'ong'o - Gamerock  (-0.412615, 36.979656) - 1746m "
   ]
  },
  {
   "cell_type": "code",
   "execution_count": 89,
   "metadata": {},
   "outputs": [],
   "source": [
    "df_loc17 = df_zone['2022-05-29 14:45:00' : '2022-05-29 15:07:00']\n",
    "df_tim17 = df_loc17.reset_index()"
   ]
  },
  {
   "cell_type": "code",
   "execution_count": 90,
   "metadata": {},
   "outputs": [],
   "source": [
    "df_mul17 = df_tim17.loc[df_tim17['gateway_id'] == 'multitech-dsail-tower']\n",
    "df_mul17 = df_mul17.set_index('time')\n",
    "df_mul17 = df_mul17.reset_index() "
   ]
  },
  {
   "cell_type": "code",
   "execution_count": 91,
   "metadata": {},
   "outputs": [],
   "source": [
    "df_ker17 = df_tim17.loc[df_tim17['gateway_id'] == 'kerlink-dsail-tower']\n",
    "df_ker17 = df_ker17.set_index('time')\n",
    "df_ker17 = df_ker17.reset_index()"
   ]
  },
  {
   "cell_type": "markdown",
   "metadata": {},
   "source": [
    "### Nyeri - Town  (-0.421388, 36.950909) - 1759m  "
   ]
  },
  {
   "cell_type": "code",
   "execution_count": 94,
   "metadata": {},
   "outputs": [],
   "source": [
    "df_loc18 = df_zone['2022-05-29 15:08:00' : '2022-05-29 17:07:00']\n",
    "df_tim18 = df_loc18.reset_index()"
   ]
  },
  {
   "cell_type": "code",
   "execution_count": 95,
   "metadata": {},
   "outputs": [],
   "source": [
    "df_mul18 = df_tim18.loc[df_tim18['gateway_id'] == 'multitech-dsail-tower']\n",
    "df_mul18 = df_mul18.set_index('time')\n",
    "df_mul18 = df_mul18.reset_index()"
   ]
  },
  {
   "cell_type": "code",
   "execution_count": 96,
   "metadata": {},
   "outputs": [],
   "source": [
    "df_ker18 = df_tim18.loc[df_tim18['gateway_id'] == 'kerlink-dsail-tower']\n",
    "df_ker18 = df_ker18.set_index('time')\n",
    "df_ker18 = df_ker18.reset_index()"
   ]
  },
  {
   "cell_type": "markdown",
   "metadata": {},
   "source": [
    "#### kerlink"
   ]
  },
  {
   "cell_type": "code",
   "execution_count": 99,
   "metadata": {},
   "outputs": [
    {
     "name": "stdout",
     "output_type": "stream",
     "text": [
      "0.9792641794372314\n"
     ]
    }
   ],
   "source": [
    "origin = (-0.397979, 36.961349) \n",
    "dist = (-0.406682, 36.962978)\n",
    "print(geodesic(origin, dist).kilometers) "
   ]
  },
  {
   "cell_type": "markdown",
   "metadata": {},
   "source": [
    "#### multitech"
   ]
  },
  {
   "cell_type": "code",
   "execution_count": 100,
   "metadata": {},
   "outputs": [
    {
     "name": "stdout",
     "output_type": "stream",
     "text": [
      "0.9626915317899193\n"
     ]
    }
   ],
   "source": [
    "origin = (-0.398390, 36.960342) \n",
    "dist = (-0.406682, 36.962978)\n",
    "print(geodesic(origin, dist).kilometers)  "
   ]
  },
  {
   "cell_type": "code",
   "execution_count": 106,
   "metadata": {},
   "outputs": [
    {
     "data": {
      "text/html": [
       "<div>\n",
       "<style scoped>\n",
       "    .dataframe tbody tr th:only-of-type {\n",
       "        vertical-align: middle;\n",
       "    }\n",
       "\n",
       "    .dataframe tbody tr th {\n",
       "        vertical-align: top;\n",
       "    }\n",
       "\n",
       "    .dataframe thead th {\n",
       "        text-align: right;\n",
       "    }\n",
       "</style>\n",
       "<table border=\"1\" class=\"dataframe\">\n",
       "  <thead>\n",
       "    <tr style=\"text-align: right;\">\n",
       "      <th></th>\n",
       "      <th>Gateway id</th>\n",
       "      <th>latitude</th>\n",
       "      <th>longitude</th>\n",
       "      <th>Installation height (m)</th>\n",
       "      <th>Installation location (ASL)</th>\n",
       "    </tr>\n",
       "  </thead>\n",
       "  <tbody>\n",
       "    <tr>\n",
       "      <th>0</th>\n",
       "      <td>kerlink-dsail-tower</td>\n",
       "      <td>-0.397979</td>\n",
       "      <td>36.961349</td>\n",
       "      <td>25</td>\n",
       "      <td>1767</td>\n",
       "    </tr>\n",
       "    <tr>\n",
       "      <th>1</th>\n",
       "      <td>multitech-dsail-tower</td>\n",
       "      <td>-0.398390</td>\n",
       "      <td>36.960342</td>\n",
       "      <td>50</td>\n",
       "      <td>1773</td>\n",
       "    </tr>\n",
       "  </tbody>\n",
       "</table>\n",
       "</div>"
      ],
      "text/plain": [
       "             Gateway id   latitude   longitude  Installation height (m)  \\\n",
       "0    kerlink-dsail-tower  -0.397979  36.961349                       25   \n",
       "1  multitech-dsail-tower  -0.398390  36.960342                       50   \n",
       "\n",
       "   Installation location (ASL)  \n",
       "0                         1767  \n",
       "1                         1773  "
      ]
     },
     "execution_count": 106,
     "metadata": {},
     "output_type": "execute_result"
    }
   ],
   "source": [
    "radio = pd.read_csv('gateway_location.csv')\n",
    "radio"
   ]
  },
  {
   "cell_type": "code",
   "execution_count": null,
   "metadata": {},
   "outputs": [],
   "source": []
  }
 ],
 "metadata": {
  "kernelspec": {
   "display_name": "Python 3",
   "language": "python",
   "name": "python3"
  },
  "language_info": {
   "codemirror_mode": {
    "name": "ipython",
    "version": 3
   },
   "file_extension": ".py",
   "mimetype": "text/x-python",
   "name": "python",
   "nbconvert_exporter": "python",
   "pygments_lexer": "ipython3",
   "version": "3.7.0"
  }
 },
 "nbformat": 4,
 "nbformat_minor": 2
}
