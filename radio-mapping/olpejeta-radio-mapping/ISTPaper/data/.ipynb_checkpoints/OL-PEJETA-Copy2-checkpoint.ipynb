{
 "cells": [
  {
   "cell_type": "markdown",
   "metadata": {},
   "source": [
    "# LoRa Transmission Data Analysis"
   ]
  },
  {
   "cell_type": "code",
   "execution_count": 1,
   "metadata": {},
   "outputs": [],
   "source": [
    "%matplotlib inline\n",
    "import pandas as pd\n",
    "import numpy as np\n",
    "import matplotlib.pyplot as plt\n",
    "from pandas import DataFrame, Series\n",
    "from pandas.io.json import json_normalize\n",
    "from influxdb import InfluxDBClient\n",
    "from datetime import datetime, timedelta, timezone\n",
    "from geopy.distance import geodesic\n",
    "from tabulate import tabulate\n",
    "import GPy\n",
    "import numpy as np\n",
    "from IPython.display import display"
   ]
  },
  {
   "cell_type": "code",
   "execution_count": 2,
   "metadata": {},
   "outputs": [],
   "source": [
    "df = pd.read_csv (r'C:\\Users\\nahsh\\desktop\\ISTpaper\\data\\ol-pejeta-data.csv')"
   ]
  },
  {
   "cell_type": "code",
   "execution_count": 3,
   "metadata": {},
   "outputs": [],
   "source": [
    "# make time a datetime object\n",
    "df[['time']] = df[['time']].apply(pd.to_datetime)"
   ]
  },
  {
   "cell_type": "code",
   "execution_count": 4,
   "metadata": {},
   "outputs": [],
   "source": [
    "# we are interested in time, rssi, and snr for every GATEWAY\n",
    "df_lora_study_data = df[['time', 'gateway','sensor','rssi','snr']]\n",
    "df_lora_study_data.columns = ['time', 'gateway','sensor','rssi','snr']"
   ]
  },
  {
   "cell_type": "markdown",
   "metadata": {},
   "source": [
    "# GATEWAY 0"
   ]
  },
  {
   "cell_type": "code",
   "execution_count": 5,
   "metadata": {},
   "outputs": [],
   "source": [
    "#SELECTING DATA FOR GATEWAY 0\n",
    "df_gateway0 =df_lora_study_data[df_lora_study_data['gateway'].str.contains(\"eui-0002fcc23d0b760a\")==True] "
   ]
  },
  {
   "cell_type": "code",
   "execution_count": 6,
   "metadata": {},
   "outputs": [
    {
     "data": {
      "text/plain": [
       "-78.75324675324676"
      ]
     },
     "execution_count": 6,
     "metadata": {},
     "output_type": "execute_result"
    }
   ],
   "source": [
    "#POSTION1\n",
    "#df_mdotone_gateway0 \n",
    "df_mdotone_gateway0=df_gateway0[df_gateway0['sensor'].str.contains(\"mdot-one\")==True]\n",
    "point1_time = df_mdotone_gateway0.set_index(['time'])\n",
    "point1_time2=(point1_time.loc['2019-09-19 08:30:00':'2019-09-19 10:30:00'])\n",
    "numpyarray_110=np.array(point1_time2[\"rssi\"])\n",
    "mean_rssi_110=np.mean(numpyarray_110)\n",
    "mean_rssi_110"
   ]
  },
  {
   "cell_type": "code",
   "execution_count": 7,
   "metadata": {},
   "outputs": [
    {
     "data": {
      "text/plain": [
       "-102.72058823529412"
      ]
     },
     "execution_count": 7,
     "metadata": {},
     "output_type": "execute_result"
    }
   ],
   "source": [
    "#POSTION1\n",
    "#df_mdottwo_gateway0 \n",
    "df_mdottwo_gateway0=df_gateway0[df_gateway0['sensor'].str.contains(\"mdot-two\")==True]\n",
    "point1_time = df_mdottwo_gateway0.set_index(['time'])\n",
    "point1_time2=(point1_time.loc['2019-09-19 08:30:00':'2019-09-19 10:30:00'])\n",
    "numpyarray_210=np.array(point1_time2[\"rssi\"])\n",
    "mean_rssi_210=np.mean(numpyarray_210)\n",
    "mean_rssi_210"
   ]
  },
  {
   "cell_type": "code",
   "execution_count": 8,
   "metadata": {},
   "outputs": [
    {
     "data": {
      "text/plain": [
       "-91.57011070110701"
      ]
     },
     "execution_count": 8,
     "metadata": {},
     "output_type": "execute_result"
    }
   ],
   "source": [
    "#POSTION2\n",
    "#df_mdot-one_gateway0 \n",
    "df_mdotone_gateway0=df_gateway0[df_gateway0['sensor'].str.contains(\"mdot-one\")==True]\n",
    "point1_time = df_mdotone_gateway0.set_index(['time'])\n",
    "point1_time2=(point1_time.loc['2019-09-19 15:00:00':'2019-09-20 11:00:00'])\n",
    "numpyarray_120=np.array(point1_time2[\"rssi\"])\n",
    "mean_rssi_120=np.mean(numpyarray_120)\n",
    "mean_rssi_120"
   ]
  },
  {
   "cell_type": "code",
   "execution_count": 9,
   "metadata": {},
   "outputs": [
    {
     "data": {
      "text/plain": [
       "-104.48523206751055"
      ]
     },
     "execution_count": 9,
     "metadata": {},
     "output_type": "execute_result"
    }
   ],
   "source": [
    "#POSTION2\n",
    "#df_mdot-two_gateway0 \n",
    "df_mdotwo_gateway0=df_gateway0[df_gateway0['sensor'].str.contains(\"mdot-two\")==True]\n",
    "point1_time = df_mdotwo_gateway0.set_index(['time'])\n",
    "point1_time2=(point1_time.loc['2019-09-19 15:00:00':'2019-09-20 11:00:00'])\n",
    "numpyarray_220=np.array(point1_time2[\"rssi\"])\n",
    "mean_rssi_220=np.mean(numpyarray_220)\n",
    "mean_rssi_220"
   ]
  },
  {
   "cell_type": "code",
   "execution_count": 10,
   "metadata": {},
   "outputs": [
    {
     "data": {
      "text/plain": [
       "-109.7410071942446"
      ]
     },
     "execution_count": 10,
     "metadata": {},
     "output_type": "execute_result"
    }
   ],
   "source": [
    "#POSTION2\n",
    "#df_mdot-3_gateway0 \n",
    "df_mdotthree_gateway0=df_gateway0[df_gateway0['sensor'].str.contains(\"mdot-03\")==True]\n",
    "point1_time = df_mdotthree_gateway0.set_index(['time'])\n",
    "point1_time2=(point1_time.loc['2019-09-19 15:00:00':'2019-09-20 11:00:00'])\n",
    "numpyarray_320=np.array(point1_time2[\"rssi\"])\n",
    "mean_rssi_320=np.mean(numpyarray_320)\n",
    "mean_rssi_320"
   ]
  },
  {
   "cell_type": "markdown",
   "metadata": {},
   "source": [
    "# GATEWAY 7 "
   ]
  },
  {
   "cell_type": "code",
   "execution_count": 11,
   "metadata": {},
   "outputs": [],
   "source": [
    "#SELECTING DATA FOR GATEWAY 7\n",
    "df_gateway7 =df_lora_study_data[df_lora_study_data['gateway'].str.contains(\"eui-7276ff00080e0675\")==True] "
   ]
  },
  {
   "cell_type": "code",
   "execution_count": 12,
   "metadata": {},
   "outputs": [
    {
     "data": {
      "text/plain": [
       "-89.23809523809524"
      ]
     },
     "execution_count": 12,
     "metadata": {},
     "output_type": "execute_result"
    }
   ],
   "source": [
    "#POSTION1\n",
    "#df_mdotone_gateway7 \n",
    "df_mdotone_gateway7=df_gateway7[df_gateway7['sensor'].str.contains(\"mdot-one\")==True]\n",
    "point1_time = df_mdotone_gateway7.set_index(['time'])\n",
    "point1_time2=(point1_time.loc['2019-09-19 08:30:00':'2019-09-19 10:30:00'])\n",
    "numpyarray_117=np.array(point1_time2[\"rssi\"])\n",
    "mean_rssi_117=np.mean(numpyarray_117)\n",
    "mean_rssi_117"
   ]
  },
  {
   "cell_type": "code",
   "execution_count": 13,
   "metadata": {},
   "outputs": [
    {
     "data": {
      "text/plain": [
       "-110.32203389830508"
      ]
     },
     "execution_count": 13,
     "metadata": {},
     "output_type": "execute_result"
    }
   ],
   "source": [
    "#POSTION1\n",
    "#df_mdotone_gateway7 \n",
    "df_mdottwo_gateway7=df_gateway7[df_gateway7['sensor'].str.contains(\"mdot-two\")==True]\n",
    "point1_time = df_mdottwo_gateway7.set_index(['time'])\n",
    "point1_time2=(point1_time.loc['2019-09-19 08:30:00':'2019-09-19 10:30:00'])\n",
    "numpyarray_217=np.array(point1_time2[\"rssi\"])\n",
    "mean_rssi_217=np.mean(numpyarray_217)\n",
    "mean_rssi_217"
   ]
  },
  {
   "cell_type": "code",
   "execution_count": 14,
   "metadata": {},
   "outputs": [
    {
     "data": {
      "text/plain": [
       "-93.44380952380952"
      ]
     },
     "execution_count": 14,
     "metadata": {},
     "output_type": "execute_result"
    }
   ],
   "source": [
    "#POSTION2\n",
    "#df_mdotone_gateway7 \n",
    "df_mdotone_gateway7=df_gateway7[df_gateway7['sensor'].str.contains(\"mdot-one\")==True]\n",
    "point1_time = df_mdotone_gateway7.set_index(['time'])\n",
    "point1_time2=(point1_time.loc['2019-09-19 15:00:00':'2019-09-20 11:00:00'])\n",
    "numpyarray_127=np.array(point1_time2[\"rssi\"])\n",
    "mean_rssi_127=np.mean(numpyarray_127)\n",
    "mean_rssi_127"
   ]
  },
  {
   "cell_type": "code",
   "execution_count": 15,
   "metadata": {},
   "outputs": [
    {
     "data": {
      "text/plain": [
       "-117.77874186550976"
      ]
     },
     "execution_count": 15,
     "metadata": {},
     "output_type": "execute_result"
    }
   ],
   "source": [
    "#POSTION2\n",
    "#df_mdotone_gateway7 \n",
    "df_mdotwo_gateway7=df_gateway7[df_gateway7['sensor'].str.contains(\"mdot-two\")==True]\n",
    "point1_time = df_mdottwo_gateway7.set_index(['time'])\n",
    "point1_time2=(point1_time.loc['2019-09-19 15:00:00':'2019-09-20 11:00:00'])\n",
    "numpyarray_227=np.array(point1_time2[\"rssi\"])\n",
    "mean_rssi_227=np.mean(numpyarray_227)\n",
    "mean_rssi_227"
   ]
  },
  {
   "cell_type": "code",
   "execution_count": 16,
   "metadata": {},
   "outputs": [
    {
     "data": {
      "text/plain": [
       "-101.0091743119266"
      ]
     },
     "execution_count": 16,
     "metadata": {},
     "output_type": "execute_result"
    }
   ],
   "source": [
    "#POSTION2\n",
    "#df_mdotone_gateway7 \n",
    "df_mdotthree_gateway7=df_gateway7[df_gateway7['sensor'].str.contains(\"mdot-03\")==True]\n",
    "point1_time = df_mdotthree_gateway7.set_index(['time'])\n",
    "point1_time2=(point1_time.loc['2019-09-19 15:00:00':'2019-09-20 11:00:00'])\n",
    "numpyarray_327=np.array(point1_time2[\"rssi\"])\n",
    "mean_rssi_327=np.mean(numpyarray_327)\n",
    "mean_rssi_327"
   ]
  },
  {
   "cell_type": "code",
   "execution_count": 17,
   "metadata": {},
   "outputs": [
    {
     "data": {
      "text/plain": [
       "[-89.23809523809524,\n",
       " -93.44380952380952,\n",
       " -110.32203389830508,\n",
       " -101.0091743119266,\n",
       " -117.77874186550976]"
      ]
     },
     "execution_count": 17,
     "metadata": {},
     "output_type": "execute_result"
    },
    {
     "data": {
      "image/png": "[encoded data removed]",
      "text/plain": [
       "<Figure size 432x288 with 1 Axes>"
      ]
     },
     "metadata": {},
     "output_type": "display_data"
    }
   ],
   "source": [
    "#KERLINK\n",
    "import seaborn as sns; sns.set()\n",
    "import matplotlib.pyplot as plt\n",
    "rssi_gateway7_arrays=[numpyarray_117,numpyarray_127,numpyarray_217,numpyarray_327,numpyarray_227]\n",
    "mean_rssi_gateway7=[mean_rssi_117,mean_rssi_127,mean_rssi_217,mean_rssi_327,mean_rssi_227]\n",
    "distance_to_gateway7=[0.159803,0.436207,0.567329,1.27312,7.5617]\n",
    "plt.plot(distance_to_gateway7,mean_rssi_gateway7, 'bo')\n",
    "plt.legend(['RSSI']);\n",
    "plt.xticks(rotation=45);\n",
    "plt.ylim([-150, -30]);\n",
    "plt.xlim([0, 8]);\n",
    "plt.xlabel('Distance in km');\n",
    "plt.ylabel('RSSI in dBm');\n",
    "plt.tight_layout()\n",
    "mean_rssi_gateway7"
   ]
  },
  {
   "cell_type": "code",
   "execution_count": 46,
   "metadata": {},
   "outputs": [
    {
     "data": {
      "image/png": "[encoded data removed]",
      "text/plain": [
       "<Figure size 432x288 with 1 Axes>"
      ]
     },
     "metadata": {},
     "output_type": "display_data"
    }
   ],
   "source": [
    "polynomialOrder =2\n",
    "coefficients = np.polyfit(distance_to_gateway7,mean_rssi_gateway7,polynomialOrder)  # find the coefficients for a polynomialOrder order polynomial to make a best fit\n",
    "p = np.poly1d(coefficients)                     # This makes the polynomial class of a polynomialOrder order polynomial with the best fit coefficients\n",
    "polynomial = p(distance_to_gateway7)                               # This calculates the polynomial at every data point. This is the data you plot.\n",
    "\n",
    "fig = plt.figure()\n",
    "plt.plot(distance_to_gateway7,mean_rssi_gateway7,'b*', distance_to_gateway7, polynomial, 'g')\n",
    "plt.ylim([-150, -30]);\n",
    "plt.xlim([0, 8]);\n",
    "plt.show()"
   ]
  },
  {
   "cell_type": "code",
   "execution_count": 64,
   "metadata": {},
   "outputs": [
    {
     "name": "stdout",
     "output_type": "stream",
     "text": [
      "[-47.83410819   2.80728481 103.66568564]\n"
     ]
    },
    {
     "data": {
      "image/png": "[encoded data removed]",
      "text/plain": [
       "<Figure size 432x288 with 1 Axes>"
      ]
     },
     "metadata": {},
     "output_type": "display_data"
    }
   ],
   "source": [
    "from scipy import stats\n",
    "import numpy as np\n",
    "from scipy.optimize import minimize\n",
    "import pylab as py\n",
    "\n",
    "ydata = mean_rssi_gateway7\n",
    "xdata = distance_to_gateway7\n",
    "\n",
    "def sigmoid(params):\n",
    "    k = params[0]\n",
    "    x0 = params[1]   \n",
    "    sd = params[2]\n",
    "\n",
    "    yPred = 1 / (1+ np.exp(-k*(xdata-x0)))\n",
    "\n",
    "    # Calculate negative log likelihood\n",
    "    LL = -np.sum( stats.norm.logpdf(ydata, loc=yPred, scale=sd ) )\n",
    "\n",
    "    return(LL)\n",
    "\n",
    "initParams = [1, 1, 1]\n",
    "\n",
    "results = minimize(sigmoid, initParams, method='Nelder-Mead')\n",
    "print (results.x)\n",
    "\n",
    "estParms = results.x\n",
    "yOut = yPred = 1 / (1+ np.exp(-estParms[0]*(xdata-estParms[1])))\n",
    "\n",
    "py.clf()\n",
    "py.plot(xdata,ydata, 'go')\n",
    "py.plot(xdata, yOut)\n",
    "py.show()"
   ]
  },
  {
   "cell_type": "code",
   "execution_count": null,
   "metadata": {},
   "outputs": [],
   "source": []
  }
 ],
 "metadata": {
  "kernelspec": {
   "display_name": "Python 3",
   "language": "python",
   "name": "python3"
  },
  "language_info": {
   "codemirror_mode": {
    "name": "ipython",
    "version": 3
   },
   "file_extension": ".py",
   "mimetype": "text/x-python",
   "name": "python",
   "nbconvert_exporter": "python",
   "pygments_lexer": "ipython3",
   "version": "3.7.4"
  }
 },
 "nbformat": 4,
 "nbformat_minor": 2
}
