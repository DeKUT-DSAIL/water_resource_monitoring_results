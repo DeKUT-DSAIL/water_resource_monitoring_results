{
 "cells": [
  {
   "cell_type": "markdown",
   "metadata": {},
   "source": [
    "# LoRa Transmission Data Analysis"
   ]
  },
  {
   "cell_type": "code",
   "execution_count": 1,
   "metadata": {},
   "outputs": [],
   "source": [
    "%matplotlib inline\n",
    "import pandas as pd\n",
    "import numpy as np\n",
    "import matplotlib.pyplot as plt\n",
    "from pandas import DataFrame, Series\n",
    "from pandas.io.json import json_normalize\n",
    "from influxdb import InfluxDBClient\n",
    "from datetime import datetime, timedelta, timezone\n",
    "from geopy.distance import geodesic\n",
    "from tabulate import tabulate\n",
    "import GPy\n",
    "import numpy as np\n",
    "from IPython.display import display\n",
    "import seaborn as sns; sns.set()"
   ]
  },
  {
   "cell_type": "code",
   "execution_count": 2,
   "metadata": {},
   "outputs": [],
   "source": [
    "df = pd.read_csv (r'C:\\Users\\nahsh\\desktop\\ISTpaper\\data\\ol-pejeta-data.csv')"
   ]
  },
  {
   "cell_type": "code",
   "execution_count": 3,
   "metadata": {},
   "outputs": [],
   "source": [
    "# make time a datetime object\n",
    "df[['time']] = df[['time']].apply(pd.to_datetime)"
   ]
  },
  {
   "cell_type": "code",
   "execution_count": 27,
   "metadata": {},
   "outputs": [
    {
     "name": "stdout",
     "output_type": "stream",
     "text": [
      "\n",
      "Sensor        Distance_Kerlink (km)\n",
      "----------  -----------------------\n",
      "mdot-01-P1                 0.159803\n",
      "mdot-02-P1                 0.567329\n",
      "mdot-01-P2                 0.436207\n",
      "mdot_02_P2                 7.5617\n",
      "mdot_03_P3                 1.27312\n",
      "\n",
      " Sensor       Distance_Lorix(km)\n",
      "----------  --------------------\n",
      "mdot-01-P1              0.152015\n",
      "mdot-02-P1              0.55983\n",
      "mdot-01-P2              0.44223\n",
      "mdot_02_P2              7.55677\n",
      "mdot_03_P3              1.27161\n"
     ]
    }
   ],
   "source": [
    "# Compute distances from points to gateways\n",
    "\n",
    "kerlink_loc = (0.026884535, 36.903187)\n",
    "lorix_loc = (0.026812032, 36.9032)\n",
    "\n",
    "mdot_01_p1_loc = (0.025448333, 36.903027)\n",
    "mdot_02_p1_loc = (0.022585, 36.905968)\n",
    "\n",
    "mdot_01_p2_loc = (0.0302132, 36.90529)\n",
    "mdot_02_p2_loc = (-0.0042156363, 36.963684)\n",
    "mdot_03_p2_loc = (0.026764926, 36.914623)\n",
    "\n",
    "sensors = ['mdot-01-P1','mdot-02-P1', 'mdot-01-P2','mdot_02_P2','mdot_03_P3']\n",
    "sensor_locs = [mdot_01_p1_loc, mdot_02_p1_loc,mdot_01_p2_loc,mdot_02_p2_loc, mdot_03_p2_loc]\n",
    "kerlink_dist = []\n",
    "\n",
    "for sl in sensor_locs:\n",
    "    kerlink_dist.append([sensors[sensor_locs.index(sl)], geodesic(kerlink_loc, sl).km])\n",
    "    \n",
    "print(tabulate(kerlink_dist, ['\\nSensor', '\\nDistance_Kerlink (km)']))  \n",
    "\n",
    "lorix_dist = []\n",
    "\n",
    "for sl in sensor_locs:\n",
    "    lorix_dist.append([sensors[sensor_locs.index(sl)],geodesic(lorix_loc, sl).km])\n",
    "    \n",
    "print(tabulate(lorix_dist, ['\\n Sensor', '\\nDistance_Lorix(km)']))"
   ]
  },
  {
   "cell_type": "code",
   "execution_count": 4,
   "metadata": {},
   "outputs": [],
   "source": [
    "# we are interested in time, rssi, and snr for every GATEWAY\n",
    "df_lora_study_data = df[['time', 'gateway','sensor','rssi','snr']]\n",
    "df_lora_study_data.columns = ['time', 'gateway','sensor','rssi','snr']"
   ]
  },
  {
   "cell_type": "markdown",
   "metadata": {},
   "source": [
    "# LORIX GATEWAY (0)\n",
    "Sorting Data for the LORIX Gateway"
   ]
  },
  {
   "cell_type": "code",
   "execution_count": 5,
   "metadata": {},
   "outputs": [],
   "source": [
    "#SELECTING DATA FOR GATEWAY 0\n",
    "df_gateway0 =df_lora_study_data[df_lora_study_data['gateway'].str.contains(\"eui-0002fcc23d0b760a\")==True] "
   ]
  },
  {
   "cell_type": "code",
   "execution_count": 6,
   "metadata": {},
   "outputs": [
    {
     "data": {
      "text/plain": [
       "-78.75324675324676"
      ]
     },
     "execution_count": 6,
     "metadata": {},
     "output_type": "execute_result"
    }
   ],
   "source": [
    "#POSTION1\n",
    "#df_mdotone_gateway0 \n",
    "df_mdotone_gateway0=df_gateway0[df_gateway0['sensor'].str.contains(\"mdot-one\")==True]\n",
    "point1_time = df_mdotone_gateway0.set_index(['time'])\n",
    "point1_time2=(point1_time.loc['2019-09-19 08:30:00':'2019-09-19 10:30:00'])\n",
    "numpyarray_110=np.array(point1_time2[\"rssi\"])\n",
    "mean_rssi_110=np.mean(numpyarray_110)\n",
    "mean_rssi_110"
   ]
  },
  {
   "cell_type": "code",
   "execution_count": 7,
   "metadata": {},
   "outputs": [
    {
     "data": {
      "text/plain": [
       "-102.72058823529412"
      ]
     },
     "execution_count": 7,
     "metadata": {},
     "output_type": "execute_result"
    }
   ],
   "source": [
    "#POSTION1\n",
    "#df_mdottwo_gateway0 \n",
    "df_mdottwo_gateway0=df_gateway0[df_gateway0['sensor'].str.contains(\"mdot-two\")==True]\n",
    "point1_time = df_mdottwo_gateway0.set_index(['time'])\n",
    "point1_time2=(point1_time.loc['2019-09-19 08:30:00':'2019-09-19 10:30:00'])\n",
    "numpyarray_210=np.array(point1_time2[\"rssi\"])\n",
    "mean_rssi_210=np.mean(numpyarray_210)\n",
    "mean_rssi_210"
   ]
  },
  {
   "cell_type": "code",
   "execution_count": 8,
   "metadata": {},
   "outputs": [
    {
     "data": {
      "text/plain": [
       "-91.57011070110701"
      ]
     },
     "execution_count": 8,
     "metadata": {},
     "output_type": "execute_result"
    }
   ],
   "source": [
    "#POSTION2\n",
    "#df_mdot-one_gateway0 \n",
    "df_mdotone_gateway0=df_gateway0[df_gateway0['sensor'].str.contains(\"mdot-one\")==True]\n",
    "point1_time = df_mdotone_gateway0.set_index(['time'])\n",
    "point1_time2=(point1_time.loc['2019-09-19 15:00:00':'2019-09-20 11:00:00'])\n",
    "numpyarray_120=np.array(point1_time2[\"rssi\"])\n",
    "mean_rssi_120=np.mean(numpyarray_120)\n",
    "mean_rssi_120"
   ]
  },
  {
   "cell_type": "code",
   "execution_count": 9,
   "metadata": {},
   "outputs": [
    {
     "data": {
      "text/plain": [
       "-104.48523206751055"
      ]
     },
     "execution_count": 9,
     "metadata": {},
     "output_type": "execute_result"
    }
   ],
   "source": [
    "#POSTION2\n",
    "#df_mdot-two_gateway0 \n",
    "df_mdotwo_gateway0=df_gateway0[df_gateway0['sensor'].str.contains(\"mdot-two\")==True]\n",
    "point1_time = df_mdotwo_gateway0.set_index(['time'])\n",
    "point1_time2=(point1_time.loc['2019-09-19 15:00:00':'2019-09-20 11:00:00'])\n",
    "numpyarray_220=np.array(point1_time2[\"rssi\"])\n",
    "mean_rssi_220=np.mean(numpyarray_220)\n",
    "mean_rssi_220"
   ]
  },
  {
   "cell_type": "code",
   "execution_count": 10,
   "metadata": {},
   "outputs": [
    {
     "data": {
      "text/plain": [
       "-109.7410071942446"
      ]
     },
     "execution_count": 10,
     "metadata": {},
     "output_type": "execute_result"
    }
   ],
   "source": [
    "#POSTION2\n",
    "#df_mdot-3_gateway0 \n",
    "df_mdotthree_gateway0=df_gateway0[df_gateway0['sensor'].str.contains(\"mdot-03\")==True]\n",
    "point1_time = df_mdotthree_gateway0.set_index(['time'])\n",
    "point1_time2=(point1_time.loc['2019-09-19 15:00:00':'2019-09-20 11:00:00'])\n",
    "numpyarray_320=np.array(point1_time2[\"rssi\"])\n",
    "mean_rssi_320=np.mean(numpyarray_320)\n",
    "mean_rssi_320"
   ]
  },
  {
   "cell_type": "markdown",
   "metadata": {},
   "source": [
    "# KERLINK GATEWAY (0)\n",
    "Sorting Data for the KERLINK Gateway"
   ]
  },
  {
   "cell_type": "code",
   "execution_count": 11,
   "metadata": {},
   "outputs": [],
   "source": [
    "#SELECTING DATA FOR GATEWAY 7\n",
    "df_gateway7 =df_lora_study_data[df_lora_study_data['gateway'].str.contains(\"eui-7276ff00080e0675\")==True] "
   ]
  },
  {
   "cell_type": "code",
   "execution_count": 12,
   "metadata": {},
   "outputs": [
    {
     "data": {
      "text/plain": [
       "-89.23809523809524"
      ]
     },
     "execution_count": 12,
     "metadata": {},
     "output_type": "execute_result"
    }
   ],
   "source": [
    "#POSTION1\n",
    "#df_mdotone_gateway7 \n",
    "df_mdotone_gateway7=df_gateway7[df_gateway7['sensor'].str.contains(\"mdot-one\")==True]\n",
    "point1_time = df_mdotone_gateway7.set_index(['time'])\n",
    "point1_time2=(point1_time.loc['2019-09-19 08:30:00':'2019-09-19 10:30:00'])\n",
    "numpyarray_117=np.array(point1_time2[\"rssi\"])\n",
    "mean_rssi_117=np.mean(numpyarray_117)\n",
    "mean_rssi_117"
   ]
  },
  {
   "cell_type": "code",
   "execution_count": 13,
   "metadata": {},
   "outputs": [
    {
     "data": {
      "text/plain": [
       "-110.32203389830508"
      ]
     },
     "execution_count": 13,
     "metadata": {},
     "output_type": "execute_result"
    }
   ],
   "source": [
    "#POSTION1\n",
    "#df_mdotone_gateway7 \n",
    "df_mdottwo_gateway7=df_gateway7[df_gateway7['sensor'].str.contains(\"mdot-two\")==True]\n",
    "point1_time = df_mdottwo_gateway7.set_index(['time'])\n",
    "point1_time2=(point1_time.loc['2019-09-19 08:30:00':'2019-09-19 10:30:00'])\n",
    "numpyarray_217=np.array(point1_time2[\"rssi\"])\n",
    "mean_rssi_217=np.mean(numpyarray_217)\n",
    "mean_rssi_217"
   ]
  },
  {
   "cell_type": "code",
   "execution_count": 14,
   "metadata": {},
   "outputs": [
    {
     "data": {
      "text/plain": [
       "-93.44380952380952"
      ]
     },
     "execution_count": 14,
     "metadata": {},
     "output_type": "execute_result"
    }
   ],
   "source": [
    "#POSTION2\n",
    "#df_mdotone_gateway7 \n",
    "df_mdotone_gateway7=df_gateway7[df_gateway7['sensor'].str.contains(\"mdot-one\")==True]\n",
    "point1_time = df_mdotone_gateway7.set_index(['time'])\n",
    "point1_time2=(point1_time.loc['2019-09-19 15:00:00':'2019-09-20 11:00:00'])\n",
    "numpyarray_127=np.array(point1_time2[\"rssi\"])\n",
    "mean_rssi_127=np.mean(numpyarray_127)\n",
    "mean_rssi_127"
   ]
  },
  {
   "cell_type": "code",
   "execution_count": 15,
   "metadata": {},
   "outputs": [
    {
     "data": {
      "text/plain": [
       "-117.77874186550976"
      ]
     },
     "execution_count": 15,
     "metadata": {},
     "output_type": "execute_result"
    }
   ],
   "source": [
    "#POSTION2\n",
    "#df_mdotone_gateway7 \n",
    "df_mdotwo_gateway7=df_gateway7[df_gateway7['sensor'].str.contains(\"mdot-two\")==True]\n",
    "point1_time = df_mdottwo_gateway7.set_index(['time'])\n",
    "point1_time2=(point1_time.loc['2019-09-19 15:00:00':'2019-09-20 11:00:00'])\n",
    "numpyarray_227=np.array(point1_time2[\"rssi\"])\n",
    "mean_rssi_227=np.mean(numpyarray_227)\n",
    "mean_rssi_227"
   ]
  },
  {
   "cell_type": "code",
   "execution_count": 16,
   "metadata": {},
   "outputs": [
    {
     "data": {
      "text/plain": [
       "-101.0091743119266"
      ]
     },
     "execution_count": 16,
     "metadata": {},
     "output_type": "execute_result"
    }
   ],
   "source": [
    "#POSTION2\n",
    "#df_mdotone_gateway7 \n",
    "df_mdotthree_gateway7=df_gateway7[df_gateway7['sensor'].str.contains(\"mdot-03\")==True]\n",
    "point1_time = df_mdotthree_gateway7.set_index(['time'])\n",
    "point1_time2=(point1_time.loc['2019-09-19 15:00:00':'2019-09-20 11:00:00'])\n",
    "numpyarray_327=np.array(point1_time2[\"rssi\"])\n",
    "mean_rssi_327=np.mean(numpyarray_327)\n",
    "mean_rssi_327"
   ]
  },
  {
   "cell_type": "markdown",
   "metadata": {},
   "source": [
    "# PLOTTING RSSI vs DISTANCE FOR  and OBTAINING THE PATH LOSS EXPONENT EVERY GATEWAY\n"
   ]
  },
  {
   "cell_type": "code",
   "execution_count": 17,
   "metadata": {},
   "outputs": [
    {
     "data": {
      "image/png": "[encoded data removed]",
      "text/plain": [
       "<Figure size 432x288 with 1 Axes>"
      ]
     },
     "metadata": {
      "needs_background": "light"
     },
     "output_type": "display_data"
    }
   ],
   "source": [
    "#KERLINK\n",
    "rssi_gateway7_arrays=[numpyarray_117,numpyarray_127,numpyarray_217,numpyarray_327,numpyarray_227]\n",
    "mean_rssi_gateway7=[mean_rssi_117,mean_rssi_127,mean_rssi_217,mean_rssi_327,mean_rssi_227]\n",
    "distance_to_gateway7=[0.159803,0.436207,0.567329,1.27312,7.5617]\n",
    "plt.plot(distance_to_gateway7,mean_rssi_gateway7, 'g*')\n",
    "plt.legend(['RSSI']);\n",
    "plt.xticks(rotation=45);\n",
    "plt.ylim([-150, -30]);\n",
    "plt.xlim([0, 8]);\n",
    "plt.xlabel('Distance in km');\n",
    "plt.ylabel('RSSI in dBm');\n",
    "plt.tight_layout()"
   ]
  },
  {
   "cell_type": "code",
   "execution_count": 18,
   "metadata": {},
   "outputs": [
    {
     "data": {
      "image/png": "[encoded data removed]",
      "text/plain": [
       "<Figure size 432x288 with 1 Axes>"
      ]
     },
     "metadata": {
      "needs_background": "light"
     },
     "output_type": "display_data"
    }
   ],
   "source": [
    "#LORIX\n",
    "rssi_gateway0_arrays=[numpyarray_110,numpyarray_120,numpyarray_210,numpyarray_320,numpyarray_220]\n",
    "mean_rssi_gateway0=[mean_rssi_110,mean_rssi_120,mean_rssi_210,mean_rssi_320,mean_rssi_220]\n",
    "distance_to_gateway0=[0.152015,0.44223,0.55983,1.27161,7.55677]\n",
    "plt.plot(distance_to_gateway0,mean_rssi_gateway0, 'b*')\n",
    "plt.legend(['RSSI']);\n",
    "plt.xticks(rotation=45);\n",
    "plt.ylim([-150, -30]);\n",
    "plt.xlim([0, 10]);\n",
    "plt.xlabel('Distance in km');\n",
    "plt.ylabel('RSSI in dBm');\n",
    "plt.tight_layout()"
   ]
  },
  {
   "cell_type": "markdown",
   "metadata": {},
   "source": [
    "# PATH LOSS MODEL\n",
    "Path loss model was developed to estimate or predict the possible received signal strength on receiver. It was first used\n",
    "in determining the coverage of radio signal in a specific region given the optimized antenna location and height. It becomes\n",
    "useful for distance and location finding when mobile applications and ubiquitous computing are widely deployed.\n",
    "\n",
    "By RSSI ranging the log-distance path loss model can used to express the relationship between received power and the corresponding distance as shown in the following expression: \n",
    "\n",
    "RSSI(d)=RSSI(d0)-10*log(d/d0) \n",
    "\n",
    "        where RSSI(d) is the received RSSI/power of the receiver measured at a distance d to the transmitter, which is expressed in dBm and d0 is the1 km reference distance.\n",
    " A straight line can be drawn along the received powers RSSI(d) when the distance is using logarithmic scale:\n",
    "To find path loss exponent n, the gradient of the straight line is used"
   ]
  },
  {
   "cell_type": "markdown",
   "metadata": {},
   "source": [
    "KERLINK GATEWAY"
   ]
  },
  {
   "cell_type": "code",
   "execution_count": 19,
   "metadata": {},
   "outputs": [],
   "source": [
    "rssi_n7=[89.24,93.44,110.32,101.01,117.78] #taking postive RSSI values\n",
    "Log_d7=np.log(distance_to_gateway7) #Taking Log of d/d0; where do=1km\n",
    "D_7=(Log_d7 * 10) #ultiplying by a factor of 10"
   ]
  },
  {
   "cell_type": "code",
   "execution_count": 20,
   "metadata": {},
   "outputs": [],
   "source": [
    "#LINEAR REGRESSION FUNCTION  \n",
    "def estimate_coef(x, y): \n",
    "    # number of observations/points \n",
    "    n = np.size(x) \n",
    "  \n",
    "    # mean of x and y vector \n",
    "    m_x, m_y = np.mean(x), np.mean(y) \n",
    "  \n",
    "    # calculating cross-deviation and deviation about x \n",
    "    SS_xy = np.sum(y*x) - n*m_y*m_x \n",
    "    SS_xx = np.sum(x*x) - n*m_x*m_x \n",
    "  \n",
    "    # calculating regression coefficients \n",
    "    b_1 = SS_xy / SS_xx \n",
    "    b_0 = m_y - b_1*m_x \n",
    "  \n",
    "    return(b_0, b_1)"
   ]
  },
  {
   "cell_type": "code",
   "execution_count": 21,
   "metadata": {},
   "outputs": [],
   "source": [
    "def plot_regression_line(x, y, b): \n",
    "    # plotting the actual points as scatter plot \n",
    "    plt.scatter(x, y, color = \"m\", \n",
    "               marker = \"o\", s = 30) \n",
    "    # predicted response vector \n",
    "    y_pred = b[0] + b[1]*x \n",
    "  \n",
    "    # plotting the regression line \n",
    "    plt.plot(x, y_pred, color = \"g\") \n",
    "  \n",
    "    # putting labels \n",
    "    plt.title('PATH LOSS MODEL')\n",
    "    plt.xlabel('10*log(d/d0)') \n",
    "    plt.ylabel('Postive RSSI in dBm') \n",
    "  \n",
    "    # function to show plot \n",
    "    plt.show()"
   ]
  },
  {
   "cell_type": "code",
   "execution_count": 22,
   "metadata": {},
   "outputs": [
    {
     "name": "stdout",
     "output_type": "stream",
     "text": [
      "Estimated coefficients:\n",
      "b_0 = 103.69738483497048\n",
      "b_1 = 0.6934779243348606\n"
     ]
    },
    {
     "data": {
      "image/png": "[encoded data removed]",
      "text/plain": [
       "<Figure size 432x288 with 1 Axes>"
      ]
     },
     "metadata": {
      "needs_background": "light"
     },
     "output_type": "display_data"
    }
   ],
   "source": [
    "#CALLING MY FUNCTION USING MY DATA\n",
    "def main(): \n",
    "    # observations \n",
    "    x = D_7\n",
    "    y = rssi_n7\n",
    "  \n",
    "    # estimating coefficients \n",
    "    b = estimate_coef(x, y) \n",
    "    print(\"Estimated coefficients:\\nb_0 = {}\\nb_1 = {}\".format(b[0], b[1])) \n",
    "  \n",
    "    # plotting regression line \n",
    "    plot_regression_line(x, y, b) \n",
    "  \n",
    "if __name__ == \"__main__\": \n",
    "    main() "
   ]
  },
  {
   "cell_type": "markdown",
   "metadata": {},
   "source": [
    "The PLS is found to be 0.693"
   ]
  },
  {
   "cell_type": "markdown",
   "metadata": {},
   "source": [
    "LORIX ONE GATEWAY"
   ]
  },
  {
   "cell_type": "code",
   "execution_count": 23,
   "metadata": {},
   "outputs": [],
   "source": [
    "rssi_n0=[78.753,91.570,102.721,109.741,104.485] #taking postive RSSI values\n",
    "Log_d0=np.log(distance_to_gateway0) #Taking Log of d/d0; where do=1km\n",
    "D_0=(Log_d0 * 10) #ultiplying by a factor of 10"
   ]
  },
  {
   "cell_type": "code",
   "execution_count": 24,
   "metadata": {},
   "outputs": [
    {
     "name": "stdout",
     "output_type": "stream",
     "text": [
      "Estimated coefficients:\n",
      "b_0 = 98.75102517857059\n",
      "b_1 = 0.6376121646167577\n"
     ]
    },
    {
     "data": {
      "image/png": "[encoded data removed]",
      "text/plain": [
       "<Figure size 432x288 with 1 Axes>"
      ]
     },
     "metadata": {
      "needs_background": "light"
     },
     "output_type": "display_data"
    }
   ],
   "source": [
    "#CALLING MY FUNCTION USING MY DATA\n",
    "def main(): \n",
    "    # observations \n",
    "    x = D_0\n",
    "    y = rssi_n0\n",
    "  \n",
    "    # estimating coefficients \n",
    "    b = estimate_coef(x, y) \n",
    "    print(\"Estimated coefficients:\\nb_0 = {}\\nb_1 = {}\".format(b[0], b[1])) \n",
    "  \n",
    "    # plotting regression line \n",
    "    plot_regression_line(x, y, b) \n",
    "  \n",
    "if __name__ == \"__main__\": \n",
    "    main() "
   ]
  },
  {
   "cell_type": "markdown",
   "metadata": {},
   "source": [
    "The PLS is found to be 0.638"
   ]
  },
  {
   "cell_type": "code",
   "execution_count": 26,
   "metadata": {},
   "outputs": [
    {
     "data": {
      "image/png": "[encoded data removed]",
      "text/plain": [
       "<Figure size 432x288 with 1 Axes>"
      ]
     },
     "metadata": {
      "needs_background": "light"
     },
     "output_type": "display_data"
    }
   ],
   "source": [
    "data_a = rssi_gateway0_arrays\n",
    "data_b = rssi_gateway7_arrays\n",
    "\n",
    "ticks = ['1', '2', '3','4','5']\n",
    "\n",
    "def set_box_color(bp, color):\n",
    "    plt.setp(bp['boxes'], color=color)\n",
    "    plt.setp(bp['whiskers'], color=color)\n",
    "    plt.setp(bp['caps'], color=color)\n",
    "    plt.setp(bp['medians'], color=color)\n",
    "\n",
    "plt.figure()\n",
    "\n",
    "bpl = plt.boxplot(data_a, positions=np.array(range(len(data_a)))*2.0-0.4, sym='*', widths=0.6)\n",
    "bpr = plt.boxplot(data_b, positions=np.array(range(len(data_b)))*2.0+0.4, sym='*', widths=0.6)\n",
    "set_box_color(bpl, '#D7191C') # colors are from http://colorbrewer2.org/\n",
    "set_box_color(bpr, '#2C7BB6')\n",
    "\n",
    "# drawing temporary red and blue lines and use them to create a legend\n",
    "plt.plot([], c='#D7191C', label='LORIX One')\n",
    "plt.plot([], c='#2C7BB6', label='Kerlink LoRa')\n",
    "plt.xlabel('\\n Test Locations')\n",
    "plt.ylabel('Received Signal Strength in dBm \\n')\n",
    "plt.title('BOXPLOT COMPARISON FOR THE 5 TEST LOCATIONS \\n')\n",
    "plt.legend()\n",
    "\n",
    "plt.xticks(range(0, len(ticks) * 2, 2), ticks)\n",
    "plt.xlim(-2, len(ticks)*2)\n",
    "plt.ylim(-120, -70)\n",
    "plt.tight_layout()\n",
    "plt.savefig('boxcompare.png')\n",
    "plt.show()"
   ]
  },
  {
   "cell_type": "code",
   "execution_count": 28,
   "metadata": {},
   "outputs": [],
   "source": [
    "rssi_n01=[109.741,104.485] #taking postive RSSI values\n",
    "distance_to_gateway01=[1.27161,7.55677]\n",
    "Log_d01=np.log(distance_to_gateway01) #Taking Log of d/d0; where do=1km\n",
    "D_01=(Log_d01 * 10) #ultiplying by a factor of 10"
   ]
  },
  {
   "cell_type": "code",
   "execution_count": 29,
   "metadata": {},
   "outputs": [
    {
     "name": "stdout",
     "output_type": "stream",
     "text": [
      "Estimated coefficients:\n",
      "b_0 = 110.4496522542895\n",
      "b_1 = -0.29492300879691374\n"
     ]
    },
    {
     "data": {
      "image/png": "[encoded data removed]",
      "text/plain": [
       "<Figure size 432x288 with 1 Axes>"
      ]
     },
     "metadata": {
      "needs_background": "light"
     },
     "output_type": "display_data"
    }
   ],
   "source": [
    "#CALLING MY FUNCTION USING MY DATA\n",
    "def main(): \n",
    "    # observations \n",
    "    x = D_01\n",
    "    y = rssi_n01\n",
    "  \n",
    "    # estimating coefficients \n",
    "    b = estimate_coef(x, y) \n",
    "    print(\"Estimated coefficients:\\nb_0 = {}\\nb_1 = {}\".format(b[0], b[1])) \n",
    "  \n",
    "    # plotting regression line \n",
    "    plot_regression_line(x, y, b) \n",
    "  \n",
    "if __name__ == \"__main__\": \n",
    "    main() "
   ]
  },
  {
   "cell_type": "code",
   "execution_count": null,
   "metadata": {},
   "outputs": [],
   "source": []
  }
 ],
 "metadata": {
  "kernelspec": {
   "display_name": "Python 3",
   "language": "python",
   "name": "python3"
  },
  "language_info": {
   "codemirror_mode": {
    "name": "ipython",
    "version": 3
   },
   "file_extension": ".py",
   "mimetype": "text/x-python",
   "name": "python",
   "nbconvert_exporter": "python",
   "pygments_lexer": "ipython3",
   "version": "3.7.0"
  }
 },
 "nbformat": 4,
 "nbformat_minor": 2
}
