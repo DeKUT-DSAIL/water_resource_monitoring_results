{
 "cells": [
  {
   "cell_type": "markdown",
   "metadata": {},
   "source": [
    "# LoRa Transmission Data Analysis\n",
    "\n",
    "This notebook analyses lora transmission data collected at the Ol Pejeta Conservancy between the 19th and 20th of September. The aim of the data collection exercise was to determine transmission range of the lora enabled sensors within the conservancy and to test the deployment of river level monitoring sensors along the Ewaso Nyiro River.\n",
    "\n",
    "There are two LoRa gateways mounted at Ol Pejeta House. A Kerlink Gateway at approximately 16m and a Lorix One gateway at approximately 13m.\n",
    "\n",
    "We deployed three mdot based lora devices at various locations within the conservancy. We used the Maxbotix ultrasonic range sensor with a range of 6m to determine the depth of the Ewaso Nyiro.\n",
    "\n",
    "The devices and gateway are registered on the Things Network and we use a custom script based on TTN's python SDK to retrive the data and write it to an Influx Database. We store radio propagation parameters including RSSI, SNR and datarate. We vary the datarate between DR0-DR6 and transmit every minute.\n",
    "\n",
    "![map|512x397,60%](img/opc-sensor-points.jpg)\n"
   ]
  },
  {
   "cell_type": "code",
   "execution_count": 1,
   "metadata": {},
   "outputs": [
    {
     "ename": "ModuleNotFoundError",
     "evalue": "No module named 'geopy'",
     "output_type": "error",
     "traceback": [
      "\u001b[1;31m---------------------------------------------------------------------------\u001b[0m",
      "\u001b[1;31mModuleNotFoundError\u001b[0m                       Traceback (most recent call last)",
      "\u001b[1;32m<ipython-input-1-dee58c9d0ed8>\u001b[0m in \u001b[0;36m<module>\u001b[1;34m\u001b[0m\n\u001b[0;32m     10\u001b[0m \u001b[1;32mfrom\u001b[0m \u001b[0mdatetime\u001b[0m \u001b[1;32mimport\u001b[0m \u001b[0mdatetime\u001b[0m\u001b[1;33m,\u001b[0m \u001b[0mtimedelta\u001b[0m\u001b[1;33m,\u001b[0m \u001b[0mtimezone\u001b[0m\u001b[1;33m\u001b[0m\u001b[1;33m\u001b[0m\u001b[0m\n\u001b[0;32m     11\u001b[0m \u001b[1;33m\u001b[0m\u001b[0m\n\u001b[1;32m---> 12\u001b[1;33m \u001b[1;32mfrom\u001b[0m \u001b[0mgeopy\u001b[0m\u001b[1;33m.\u001b[0m\u001b[0mdistance\u001b[0m \u001b[1;32mimport\u001b[0m \u001b[0mgeodesic\u001b[0m\u001b[1;33m\u001b[0m\u001b[1;33m\u001b[0m\u001b[0m\n\u001b[0m\u001b[0;32m     13\u001b[0m \u001b[1;33m\u001b[0m\u001b[0m\n\u001b[0;32m     14\u001b[0m \u001b[1;32mfrom\u001b[0m \u001b[0mtabulate\u001b[0m \u001b[1;32mimport\u001b[0m \u001b[0mtabulate\u001b[0m\u001b[1;33m\u001b[0m\u001b[1;33m\u001b[0m\u001b[0m\n",
      "\u001b[1;31mModuleNotFoundError\u001b[0m: No module named 'geopy'"
     ]
    }
   ],
   "source": [
    "%matplotlib inline\n",
    "import pandas as pd\n",
    "import numpy as np\n",
    "import matplotlib.pyplot as plt\n",
    "\n",
    "from pandas import DataFrame, Series\n",
    "from pandas.io.json import json_normalize\n",
    "\n",
    "from influxdb import InfluxDBClient\n",
    "from datetime import datetime, timedelta, timezone\n",
    "\n",
    "from geopy.distance import geodesic\n",
    "\n",
    "from tabulate import tabulate\n",
    "\n",
    "client = InfluxDBClient(host='localhost', port=8086)\n",
    "client.switch_database('ol_pejeta_mdot_range_test')"
   ]
  },
  {
   "cell_type": "code",
   "execution_count": null,
   "metadata": {},
   "outputs": [],
   "source": [
    "# Compute distances from points to gateways\n",
    "\n",
    "kerlink_loc = (0.026884535, 36.903187)\n",
    "lorix_loc = (0.026812032, 36.9032)\n",
    "\n",
    "mdot_01_p1_loc = (0.025448333, 36.903027)\n",
    "mdot_02_p1_loc = (0.022585, 36.905968)\n",
    "mdot_01_p2_loc = (0.0302132, 36.90529)\n",
    "mdot_02_p2_loc = (-0.0042156363, 36.963684)\n",
    "mdot_03_p2_loc = (0.026764926, 36.914623)\n",
    "\n",
    "sensors = ['mdot-01-P1', \n",
    "           'mdot-02-P1', \n",
    "           'mdot-01-P2',\n",
    "           'mdot_02_P2',\n",
    "           'mdot_03_P3']\n",
    "sensor_locs = [mdot_01_p1_loc, \n",
    "               mdot_02_p1_loc,\n",
    "               mdot_01_p2_loc,\n",
    "               mdot_02_p2_loc,\n",
    "               mdot_03_p2_loc]\n",
    "kerlink_dist = []\n",
    "\n",
    "for sl in sensor_locs:\n",
    "    kerlink_dist.append([sensors[sensor_locs.index(sl)],\n",
    "                         geodesic(kerlink_loc, sl).km])\n",
    "    \n",
    "print(tabulate(kerlink_dist, ['Sensor', 'Distance (km)']))\n",
    "\n",
    "lorix_dist = []\n",
    "\n",
    "for sl in sensor_locs:\n",
    "    lorix_dist.append([sensors[sensor_locs.index(sl)],\n",
    "                         geodesic(lorix_loc, sl).km])\n",
    "    \n",
    "print(tabulate(lorix_dist, ['Sensor', 'Distance (km)']))"
   ]
  },
  {
   "cell_type": "code",
   "execution_count": null,
   "metadata": {},
   "outputs": [],
   "source": [
    "# Get the entries from the last hour\n",
    "result = client.query('select * from \"Range Test\"')\n",
    "\n",
    "result_list = list(result.get_points())\n",
    "\n",
    "# turn to pandas dataframe\n",
    "df = pd.DataFrame(result_list)\n",
    "\n",
    "\n",
    "# make time a datetime object\n",
    "df[['time']] = df[['time']].apply(pd.to_datetime)\n",
    "\n"
   ]
  },
  {
   "cell_type": "markdown",
   "metadata": {},
   "source": [
    "## Position 1\n",
    "Poistion 1 locations were deployed between 11.30am and 1.30pm on the 19th of September."
   ]
  },
  {
   "cell_type": "code",
   "execution_count": null,
   "metadata": {},
   "outputs": [],
   "source": [
    "start_time = datetime(2019, 9, 19, 8, 30, tzinfo=timezone.utc) # time in utc\n",
    "stop_time = datetime(2019, 9, 19, 10, 30, tzinfo=timezone.utc) # time in utc\n",
    "\n",
    "sensors = df.groupby('sensor')\n",
    "\n",
    "sensor_labels = ['mdot-one', 'mdot-two']\n",
    "\n",
    "for sensor_label in sensor_labels:\n",
    "    sensor = sensors.get_group(sensor_label)\n",
    "\n",
    "    sensor_p1 = sensor[(sensor['time']>=start_time) &\n",
    "                        (sensor['time']<=stop_time)]\n",
    "\n",
    "    for label, grp in sensor_p1.groupby('gateway'):\n",
    "        print(sensor_label, label, np.mean(grp.rssi), np.std(grp.rssi))"
   ]
  },
  {
   "cell_type": "markdown",
   "metadata": {},
   "source": [
    "## Position 2"
   ]
  },
  {
   "cell_type": "code",
   "execution_count": null,
   "metadata": {},
   "outputs": [],
   "source": [
    "start_time = datetime(2019, 9, 19, 15, 0, tzinfo=timezone.utc) # time in utc\n",
    "stop_time = datetime(2019, 9, 20, 11, 0, tzinfo=timezone.utc) # time in utc\n",
    "\n",
    "sensors = df.groupby('sensor')\n",
    "\n",
    "sensor_labels = ['mdot-one', 'mdot-two', 'mdot-03']\n",
    "\n",
    "for sensor_label in sensor_labels:\n",
    "    sensor = sensors.get_group(sensor_label)\n",
    "\n",
    "    sensor_p2 = sensor[(sensor['time']>=start_time) &\n",
    "                        (sensor['time']<=stop_time)]\n",
    "\n",
    "    for label, grp in sensor_p2.groupby('gateway'):\n",
    "        print(sensor_label, label, np.mean(grp.rssi), np.std(grp.rssi))"
   ]
  },
  {
   "cell_type": "code",
   "execution_count": null,
   "metadata": {},
   "outputs": [],
   "source": []
  }
 ],
 "metadata": {
  "kernelspec": {
   "display_name": "Python 3",
   "language": "python",
   "name": "python3"
  },
  "language_info": {
   "codemirror_mode": {
    "name": "ipython",
    "version": 3
   },
   "file_extension": ".py",
   "mimetype": "text/x-python",
   "name": "python",
   "nbconvert_exporter": "python",
   "pygments_lexer": "ipython3",
   "version": "3.7.4"
  }
 },
 "nbformat": 4,
 "nbformat_minor": 2
}
